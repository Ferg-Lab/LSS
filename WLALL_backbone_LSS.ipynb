{
 "cells": [
  {
   "cell_type": "markdown",
   "metadata": {},
   "source": [
    "# LSS applied to backbone generation of WLALL pentapeptide"
   ]
  },
  {
   "cell_type": "markdown",
   "metadata": {},
   "source": [
    "## Load the different components from their respective repos"
   ]
  },
  {
   "cell_type": "code",
   "execution_count": 1,
   "metadata": {},
   "outputs": [],
   "source": [
    "from mdn_propagator.propagator import Propagator\n",
    "from molgen.models import DDPM\n",
    "from snrv import Snrv"
   ]
  },
  {
   "cell_type": "markdown",
   "metadata": {},
   "source": [
    "### Other dependencies"
   ]
  },
  {
   "cell_type": "code",
   "execution_count": 2,
   "metadata": {},
   "outputs": [],
   "source": [
    "import mdtraj as md\n",
    "from pathlib import Path\n",
    "import torch\n",
    "import matplotlib.pyplot as plt\n",
    "import numpy as np"
   ]
  },
  {
   "cell_type": "markdown",
   "metadata": {},
   "source": [
    "# Load and prep data"
   ]
  },
  {
   "cell_type": "code",
   "execution_count": 3,
   "metadata": {},
   "outputs": [],
   "source": [
    "trj_fnames = sorted([str(i) for i in Path('data_mdshare/').glob('pentapeptide-*-500ns-impl-solv.xtc')])\n",
    "top_fname = 'data_mdshare/pentapeptide-impl-solv.pdb'"
   ]
  },
  {
   "cell_type": "code",
   "execution_count": 4,
   "metadata": {},
   "outputs": [
    {
     "data": {
      "text/plain": [
       "[<mdtraj.Trajectory with 5001 frames, 94 atoms, 5 residues, and unitcells at 0x7f8520511070>,\n",
       " <mdtraj.Trajectory with 5001 frames, 94 atoms, 5 residues, and unitcells at 0x7f85204abd90>,\n",
       " <mdtraj.Trajectory with 5001 frames, 94 atoms, 5 residues, and unitcells at 0x7f8520479dc0>,\n",
       " <mdtraj.Trajectory with 5001 frames, 94 atoms, 5 residues, and unitcells at 0x7f8520525d00>,\n",
       " <mdtraj.Trajectory with 5001 frames, 94 atoms, 5 residues, and unitcells at 0x7f8520479c40>,\n",
       " <mdtraj.Trajectory with 5001 frames, 94 atoms, 5 residues, and unitcells at 0x7f8520525a90>,\n",
       " <mdtraj.Trajectory with 5001 frames, 94 atoms, 5 residues, and unitcells at 0x7f852052daf0>,\n",
       " <mdtraj.Trajectory with 5001 frames, 94 atoms, 5 residues, and unitcells at 0x7f85204d6f40>,\n",
       " <mdtraj.Trajectory with 5001 frames, 94 atoms, 5 residues, and unitcells at 0x7f85204c6a30>,\n",
       " <mdtraj.Trajectory with 5001 frames, 94 atoms, 5 residues, and unitcells at 0x7f85204b9e80>,\n",
       " <mdtraj.Trajectory with 5001 frames, 94 atoms, 5 residues, and unitcells at 0x7f8520432f40>,\n",
       " <mdtraj.Trajectory with 5001 frames, 94 atoms, 5 residues, and unitcells at 0x7f85204b27c0>,\n",
       " <mdtraj.Trajectory with 5001 frames, 94 atoms, 5 residues, and unitcells at 0x7f852043cf70>,\n",
       " <mdtraj.Trajectory with 5001 frames, 94 atoms, 5 residues, and unitcells at 0x7f8520441040>,\n",
       " <mdtraj.Trajectory with 5001 frames, 94 atoms, 5 residues, and unitcells at 0x7f8520439880>,\n",
       " <mdtraj.Trajectory with 5001 frames, 94 atoms, 5 residues, and unitcells at 0x7f8520451ca0>,\n",
       " <mdtraj.Trajectory with 5001 frames, 94 atoms, 5 residues, and unitcells at 0x7f852045b490>,\n",
       " <mdtraj.Trajectory with 5001 frames, 94 atoms, 5 residues, and unitcells at 0x7f8520463c10>,\n",
       " <mdtraj.Trajectory with 5001 frames, 94 atoms, 5 residues, and unitcells at 0x7f85203ee3d0>,\n",
       " <mdtraj.Trajectory with 5001 frames, 94 atoms, 5 residues, and unitcells at 0x7f85203f7b50>,\n",
       " <mdtraj.Trajectory with 5001 frames, 94 atoms, 5 residues, and unitcells at 0x7f85203f9490>,\n",
       " <mdtraj.Trajectory with 5001 frames, 94 atoms, 5 residues, and unitcells at 0x7f852040ca90>,\n",
       " <mdtraj.Trajectory with 5001 frames, 94 atoms, 5 residues, and unitcells at 0x7f85204123d0>,\n",
       " <mdtraj.Trajectory with 5001 frames, 94 atoms, 5 residues, and unitcells at 0x7f85204209d0>,\n",
       " <mdtraj.Trajectory with 5001 frames, 94 atoms, 5 residues, and unitcells at 0x7f8520427310>]"
      ]
     },
     "execution_count": 4,
     "metadata": {},
     "output_type": "execute_result"
    }
   ],
   "source": [
    "trjs = [md.load(t, top=top_fname).center_coordinates() for t in trj_fnames]\n",
    "trjs"
   ]
  },
  {
   "cell_type": "code",
   "execution_count": 5,
   "metadata": {},
   "outputs": [
    {
     "data": {
      "text/plain": [
       "(25, torch.Size([5001, 10]))"
      ]
     },
     "execution_count": 5,
     "metadata": {},
     "output_type": "execute_result"
    }
   ],
   "source": [
    "coords_torch = list()\n",
    "for trj in trjs:\n",
    "    t_backbone = trj.atom_slice(trj.top.select('name == CA')).center_coordinates()\n",
    "    pdists = [torch.pdist(p)[None] for p in torch.tensor(t_backbone.xyz)]\n",
    "    #pdists = [torch.pdist(p)[None] for p in torch.tensor(trj.xyz)]\n",
    "    coords_torch.append(torch.cat(pdists))\n",
    "len(coords_torch), coords_torch[0].shape"
   ]
  },
  {
   "cell_type": "code",
   "execution_count": 6,
   "metadata": {},
   "outputs": [
    {
     "data": {
      "text/plain": [
       "'cuda'"
      ]
     },
     "execution_count": 6,
     "metadata": {},
     "output_type": "execute_result"
    }
   ],
   "source": [
    "device= 'cuda' if torch.cuda.is_available() else 'cpu'\n",
    "device"
   ]
  },
  {
   "cell_type": "markdown",
   "metadata": {},
   "source": [
    "# SRV fitting"
   ]
  },
  {
   "cell_type": "code",
   "execution_count": 7,
   "metadata": {},
   "outputs": [],
   "source": [
    "from snrv.utils import set_random_seed"
   ]
  },
  {
   "cell_type": "code",
   "execution_count": 8,
   "metadata": {},
   "outputs": [
    {
     "name": "stdout",
     "output_type": "stream",
     "text": [
      "Setting random seed to 42\n"
     ]
    }
   ],
   "source": [
    "set_random_seed(42)"
   ]
  },
  {
   "cell_type": "code",
   "execution_count": 9,
   "metadata": {},
   "outputs": [],
   "source": [
    "input_size = coords_torch[0].size()[1]\n",
    "output_size = 3\n",
    "hidden_depth = 2\n",
    "hidden_size = 100\n",
    "batch_norm = True\n",
    "dropout_rate = 0.0\n",
    "lr = 1E-2\n",
    "weight_decay = 0.0\n",
    "val_frac = 0.05\n",
    "n_epochs = 300\n",
    "batch_size = 25000\n",
    "VAMPdegree = 2\n",
    "is_reversible = True\n",
    "num_workers = 0\n",
    "\n",
    "model_snrv = Snrv(input_size, output_size, hidden_depth=hidden_depth, hidden_size=hidden_size,\n",
    "            batch_norm=batch_norm, dropout_rate=dropout_rate, lr=lr, weight_decay=weight_decay, \n",
    "            val_frac=val_frac, n_epochs=n_epochs, batch_size=batch_size, \n",
    "            VAMPdegree=VAMPdegree,is_reversible=is_reversible, num_workers=num_workers,\n",
    "            activation=torch.nn.GELU(), device=device)\n",
    "model_snrv = model_snrv.to(device)"
   ]
  },
  {
   "cell_type": "code",
   "execution_count": 10,
   "metadata": {},
   "outputs": [],
   "source": [
    "lag_n = 5"
   ]
  },
  {
   "cell_type": "code",
   "execution_count": 11,
   "metadata": {
    "scrolled": true
   },
   "outputs": [
    {
     "name": "stderr",
     "output_type": "stream",
     "text": [
      "Epoch 0: 100%|█████████████████████████████████████████████████████████████████████████████████████████████| 5/5 [00:02<00:00,  2.37batch/s]\n"
     ]
    },
    {
     "name": "stdout",
     "output_type": "stream",
     "text": [
      "[Epoch 0]\t training loss = -1.171\t validation loss = -1.546\n"
     ]
    },
    {
     "name": "stderr",
     "output_type": "stream",
     "text": [
      "Epoch 1: 100%|█████████████████████████████████████████████████████████████████████████████████████████████| 5/5 [00:01<00:00,  3.79batch/s]\n"
     ]
    },
    {
     "name": "stdout",
     "output_type": "stream",
     "text": [
      "[Epoch 1]\t training loss = -1.719\t validation loss = -1.513\n"
     ]
    },
    {
     "name": "stderr",
     "output_type": "stream",
     "text": [
      "Epoch 2: 100%|█████████████████████████████████████████████████████████████████████████████████████████████| 5/5 [00:01<00:00,  3.57batch/s]\n"
     ]
    },
    {
     "name": "stdout",
     "output_type": "stream",
     "text": [
      "[Epoch 2]\t training loss = -1.910\t validation loss = -1.704\n"
     ]
    },
    {
     "name": "stderr",
     "output_type": "stream",
     "text": [
      "Epoch 3: 100%|█████████████████████████████████████████████████████████████████████████████████████████████| 5/5 [00:01<00:00,  3.79batch/s]\n"
     ]
    },
    {
     "name": "stdout",
     "output_type": "stream",
     "text": [
      "[Epoch 3]\t training loss = -2.008\t validation loss = -1.598\n"
     ]
    },
    {
     "name": "stderr",
     "output_type": "stream",
     "text": [
      "Epoch 4: 100%|█████████████████████████████████████████████████████████████████████████████████████████████| 5/5 [00:01<00:00,  3.81batch/s]\n"
     ]
    },
    {
     "name": "stdout",
     "output_type": "stream",
     "text": [
      "[Epoch 4]\t training loss = -2.040\t validation loss = -1.837\n"
     ]
    },
    {
     "name": "stderr",
     "output_type": "stream",
     "text": [
      "Epoch 5: 100%|█████████████████████████████████████████████████████████████████████████████████████████████| 5/5 [00:01<00:00,  3.81batch/s]\n"
     ]
    },
    {
     "name": "stdout",
     "output_type": "stream",
     "text": [
      "[Epoch 5]\t training loss = -2.064\t validation loss = -1.977\n"
     ]
    },
    {
     "name": "stderr",
     "output_type": "stream",
     "text": [
      "Epoch 6: 100%|█████████████████████████████████████████████████████████████████████████████████████████████| 5/5 [00:01<00:00,  3.82batch/s]\n"
     ]
    },
    {
     "name": "stdout",
     "output_type": "stream",
     "text": [
      "[Epoch 6]\t training loss = -2.077\t validation loss = -1.973\n"
     ]
    },
    {
     "name": "stderr",
     "output_type": "stream",
     "text": [
      "Epoch 7: 100%|█████████████████████████████████████████████████████████████████████████████████████████████| 5/5 [00:01<00:00,  3.74batch/s]\n"
     ]
    },
    {
     "name": "stdout",
     "output_type": "stream",
     "text": [
      "[Epoch 7]\t training loss = -2.091\t validation loss = -1.990\n"
     ]
    },
    {
     "name": "stderr",
     "output_type": "stream",
     "text": [
      "Epoch 8: 100%|█████████████████████████████████████████████████████████████████████████████████████████████| 5/5 [00:01<00:00,  3.80batch/s]\n"
     ]
    },
    {
     "name": "stdout",
     "output_type": "stream",
     "text": [
      "[Epoch 8]\t training loss = -2.101\t validation loss = -2.019\n"
     ]
    },
    {
     "name": "stderr",
     "output_type": "stream",
     "text": [
      "Epoch 9: 100%|█████████████████████████████████████████████████████████████████████████████████████████████| 5/5 [00:01<00:00,  3.88batch/s]\n"
     ]
    },
    {
     "name": "stdout",
     "output_type": "stream",
     "text": [
      "[Epoch 9]\t training loss = -2.112\t validation loss = -2.022\n"
     ]
    },
    {
     "name": "stderr",
     "output_type": "stream",
     "text": [
      "Epoch 10: 100%|████████████████████████████████████████████████████████████████████████████████████████████| 5/5 [00:01<00:00,  3.87batch/s]\n"
     ]
    },
    {
     "name": "stdout",
     "output_type": "stream",
     "text": [
      "[Epoch 10]\t training loss = -2.119\t validation loss = -2.045\n"
     ]
    },
    {
     "name": "stderr",
     "output_type": "stream",
     "text": [
      "Epoch 11: 100%|████████████████████████████████████████████████████████████████████████████████████████████| 5/5 [00:01<00:00,  3.77batch/s]\n"
     ]
    },
    {
     "name": "stdout",
     "output_type": "stream",
     "text": [
      "[Epoch 11]\t training loss = -2.128\t validation loss = -2.070\n"
     ]
    },
    {
     "name": "stderr",
     "output_type": "stream",
     "text": [
      "Epoch 12: 100%|████████████████████████████████████████████████████████████████████████████████████████████| 5/5 [00:01<00:00,  3.80batch/s]\n"
     ]
    },
    {
     "name": "stdout",
     "output_type": "stream",
     "text": [
      "[Epoch 12]\t training loss = -2.134\t validation loss = -2.075\n"
     ]
    },
    {
     "name": "stderr",
     "output_type": "stream",
     "text": [
      "Epoch 13: 100%|████████████████████████████████████████████████████████████████████████████████████████████| 5/5 [00:01<00:00,  3.79batch/s]\n"
     ]
    },
    {
     "name": "stdout",
     "output_type": "stream",
     "text": [
      "[Epoch 13]\t training loss = -2.145\t validation loss = -1.907\n"
     ]
    },
    {
     "name": "stderr",
     "output_type": "stream",
     "text": [
      "Epoch 14: 100%|████████████████████████████████████████████████████████████████████████████████████████████| 5/5 [00:01<00:00,  3.78batch/s]\n"
     ]
    },
    {
     "name": "stdout",
     "output_type": "stream",
     "text": [
      "[Epoch 14]\t training loss = -2.152\t validation loss = -1.866\n"
     ]
    },
    {
     "name": "stderr",
     "output_type": "stream",
     "text": [
      "Epoch 15: 100%|████████████████████████████████████████████████████████████████████████████████████████████| 5/5 [00:01<00:00,  3.87batch/s]\n"
     ]
    },
    {
     "name": "stdout",
     "output_type": "stream",
     "text": [
      "[Epoch 15]\t training loss = -2.160\t validation loss = -1.975\n"
     ]
    },
    {
     "name": "stderr",
     "output_type": "stream",
     "text": [
      "Epoch 16: 100%|████████████████████████████████████████████████████████████████████████████████████████████| 5/5 [00:01<00:00,  3.86batch/s]\n"
     ]
    },
    {
     "name": "stdout",
     "output_type": "stream",
     "text": [
      "[Epoch 16]\t training loss = -2.163\t validation loss = -1.991\n"
     ]
    },
    {
     "name": "stderr",
     "output_type": "stream",
     "text": [
      "Epoch 17: 100%|████████████████████████████████████████████████████████████████████████████████████████████| 5/5 [00:01<00:00,  3.86batch/s]\n"
     ]
    },
    {
     "name": "stdout",
     "output_type": "stream",
     "text": [
      "[Epoch 17]\t training loss = -2.169\t validation loss = -1.909\n"
     ]
    },
    {
     "name": "stderr",
     "output_type": "stream",
     "text": [
      "Epoch 18: 100%|████████████████████████████████████████████████████████████████████████████████████████████| 5/5 [00:01<00:00,  3.82batch/s]\n"
     ]
    },
    {
     "name": "stdout",
     "output_type": "stream",
     "text": [
      "[Epoch 18]\t training loss = -2.177\t validation loss = -1.929\n"
     ]
    },
    {
     "name": "stderr",
     "output_type": "stream",
     "text": [
      "Epoch 19: 100%|████████████████████████████████████████████████████████████████████████████████████████████| 5/5 [00:01<00:00,  3.79batch/s]\n"
     ]
    },
    {
     "name": "stdout",
     "output_type": "stream",
     "text": [
      "[Epoch 19]\t training loss = -2.177\t validation loss = -2.091\n"
     ]
    },
    {
     "name": "stderr",
     "output_type": "stream",
     "text": [
      "Epoch 20: 100%|████████████████████████████████████████████████████████████████████████████████████████████| 5/5 [00:01<00:00,  3.86batch/s]\n"
     ]
    },
    {
     "name": "stdout",
     "output_type": "stream",
     "text": [
      "[Epoch 20]\t training loss = -2.176\t validation loss = -1.990\n"
     ]
    },
    {
     "name": "stderr",
     "output_type": "stream",
     "text": [
      "Epoch 21: 100%|████████████████████████████████████████████████████████████████████████████████████████████| 5/5 [00:01<00:00,  3.62batch/s]\n"
     ]
    },
    {
     "name": "stdout",
     "output_type": "stream",
     "text": [
      "[Epoch 21]\t training loss = -2.179\t validation loss = -1.852\n"
     ]
    },
    {
     "name": "stderr",
     "output_type": "stream",
     "text": [
      "Epoch 22: 100%|████████████████████████████████████████████████████████████████████████████████████████████| 5/5 [00:01<00:00,  3.79batch/s]\n"
     ]
    },
    {
     "name": "stdout",
     "output_type": "stream",
     "text": [
      "[Epoch 22]\t training loss = -2.184\t validation loss = -2.110\n"
     ]
    },
    {
     "name": "stderr",
     "output_type": "stream",
     "text": [
      "Epoch 23: 100%|████████████████████████████████████████████████████████████████████████████████████████████| 5/5 [00:01<00:00,  3.82batch/s]\n"
     ]
    },
    {
     "name": "stdout",
     "output_type": "stream",
     "text": [
      "[Epoch 23]\t training loss = -2.192\t validation loss = -2.064\n"
     ]
    },
    {
     "name": "stderr",
     "output_type": "stream",
     "text": [
      "Epoch 24: 100%|████████████████████████████████████████████████████████████████████████████████████████████| 5/5 [00:01<00:00,  3.82batch/s]\n"
     ]
    },
    {
     "name": "stdout",
     "output_type": "stream",
     "text": [
      "[Epoch 24]\t training loss = -2.194\t validation loss = -2.083\n"
     ]
    },
    {
     "name": "stderr",
     "output_type": "stream",
     "text": [
      "Epoch 25: 100%|████████████████████████████████████████████████████████████████████████████████████████████| 5/5 [00:01<00:00,  3.91batch/s]\n"
     ]
    },
    {
     "name": "stdout",
     "output_type": "stream",
     "text": [
      "[Epoch 25]\t training loss = -2.198\t validation loss = -1.944\n"
     ]
    },
    {
     "name": "stderr",
     "output_type": "stream",
     "text": [
      "Epoch 26: 100%|████████████████████████████████████████████████████████████████████████████████████████████| 5/5 [00:01<00:00,  3.83batch/s]\n"
     ]
    },
    {
     "name": "stdout",
     "output_type": "stream",
     "text": [
      "[Epoch 26]\t training loss = -2.199\t validation loss = -2.066\n"
     ]
    },
    {
     "name": "stderr",
     "output_type": "stream",
     "text": [
      "Epoch 27: 100%|████████████████████████████████████████████████████████████████████████████████████████████| 5/5 [00:01<00:00,  3.89batch/s]\n"
     ]
    },
    {
     "name": "stdout",
     "output_type": "stream",
     "text": [
      "[Epoch 27]\t training loss = -2.199\t validation loss = -2.148\n"
     ]
    },
    {
     "name": "stderr",
     "output_type": "stream",
     "text": [
      "Epoch 28: 100%|████████████████████████████████████████████████████████████████████████████████████████████| 5/5 [00:01<00:00,  3.79batch/s]\n"
     ]
    },
    {
     "name": "stdout",
     "output_type": "stream",
     "text": [
      "[Epoch 28]\t training loss = -2.202\t validation loss = -2.115\n"
     ]
    },
    {
     "name": "stderr",
     "output_type": "stream",
     "text": [
      "Epoch 29: 100%|████████████████████████████████████████████████████████████████████████████████████████████| 5/5 [00:01<00:00,  3.82batch/s]\n"
     ]
    },
    {
     "name": "stdout",
     "output_type": "stream",
     "text": [
      "[Epoch 29]\t training loss = -2.205\t validation loss = -2.152\n"
     ]
    },
    {
     "name": "stderr",
     "output_type": "stream",
     "text": [
      "Epoch 30: 100%|████████████████████████████████████████████████████████████████████████████████████████████| 5/5 [00:01<00:00,  3.60batch/s]\n"
     ]
    },
    {
     "name": "stdout",
     "output_type": "stream",
     "text": [
      "[Epoch 30]\t training loss = -2.204\t validation loss = -2.122\n"
     ]
    },
    {
     "name": "stderr",
     "output_type": "stream",
     "text": [
      "Epoch 31: 100%|████████████████████████████████████████████████████████████████████████████████████████████| 5/5 [00:01<00:00,  3.76batch/s]\n"
     ]
    },
    {
     "name": "stdout",
     "output_type": "stream",
     "text": [
      "[Epoch 31]\t training loss = -2.207\t validation loss = -2.105\n"
     ]
    },
    {
     "name": "stderr",
     "output_type": "stream",
     "text": [
      "Epoch 32: 100%|████████████████████████████████████████████████████████████████████████████████████████████| 5/5 [00:01<00:00,  3.84batch/s]\n"
     ]
    },
    {
     "name": "stdout",
     "output_type": "stream",
     "text": [
      "[Epoch 32]\t training loss = -2.210\t validation loss = -2.123\n"
     ]
    },
    {
     "name": "stderr",
     "output_type": "stream",
     "text": [
      "Epoch 33: 100%|████████████████████████████████████████████████████████████████████████████████████████████| 5/5 [00:01<00:00,  3.75batch/s]\n"
     ]
    },
    {
     "name": "stdout",
     "output_type": "stream",
     "text": [
      "[Epoch 33]\t training loss = -2.211\t validation loss = -2.140\n"
     ]
    },
    {
     "name": "stderr",
     "output_type": "stream",
     "text": [
      "Epoch 34: 100%|████████████████████████████████████████████████████████████████████████████████████████████| 5/5 [00:01<00:00,  3.78batch/s]\n"
     ]
    },
    {
     "name": "stdout",
     "output_type": "stream",
     "text": [
      "[Epoch 34]\t training loss = -2.214\t validation loss = -2.162\n"
     ]
    },
    {
     "name": "stderr",
     "output_type": "stream",
     "text": [
      "Epoch 35: 100%|████████████████████████████████████████████████████████████████████████████████████████████| 5/5 [00:01<00:00,  3.85batch/s]\n"
     ]
    },
    {
     "name": "stdout",
     "output_type": "stream",
     "text": [
      "[Epoch 35]\t training loss = -2.218\t validation loss = -2.196\n"
     ]
    },
    {
     "name": "stderr",
     "output_type": "stream",
     "text": [
      "Epoch 36: 100%|████████████████████████████████████████████████████████████████████████████████████████████| 5/5 [00:01<00:00,  3.90batch/s]\n"
     ]
    },
    {
     "name": "stdout",
     "output_type": "stream",
     "text": [
      "[Epoch 36]\t training loss = -2.218\t validation loss = -2.196\n"
     ]
    },
    {
     "name": "stderr",
     "output_type": "stream",
     "text": [
      "Epoch 37: 100%|████████████████████████████████████████████████████████████████████████████████████████████| 5/5 [00:01<00:00,  3.82batch/s]\n"
     ]
    },
    {
     "name": "stdout",
     "output_type": "stream",
     "text": [
      "[Epoch 37]\t training loss = -2.218\t validation loss = -2.079\n"
     ]
    },
    {
     "name": "stderr",
     "output_type": "stream",
     "text": [
      "Epoch 38: 100%|████████████████████████████████████████████████████████████████████████████████████████████| 5/5 [00:01<00:00,  3.86batch/s]\n"
     ]
    },
    {
     "name": "stdout",
     "output_type": "stream",
     "text": [
      "[Epoch 38]\t training loss = -2.223\t validation loss = -2.159\n"
     ]
    },
    {
     "name": "stderr",
     "output_type": "stream",
     "text": [
      "Epoch 39: 100%|████████████████████████████████████████████████████████████████████████████████████████████| 5/5 [00:01<00:00,  3.64batch/s]\n"
     ]
    },
    {
     "name": "stdout",
     "output_type": "stream",
     "text": [
      "[Epoch 39]\t training loss = -2.225\t validation loss = -2.198\n"
     ]
    },
    {
     "name": "stderr",
     "output_type": "stream",
     "text": [
      "Epoch 40: 100%|████████████████████████████████████████████████████████████████████████████████████████████| 5/5 [00:01<00:00,  3.80batch/s]\n"
     ]
    },
    {
     "name": "stdout",
     "output_type": "stream",
     "text": [
      "[Epoch 40]\t training loss = -2.223\t validation loss = -2.135\n"
     ]
    },
    {
     "name": "stderr",
     "output_type": "stream",
     "text": [
      "Epoch 41: 100%|████████████████████████████████████████████████████████████████████████████████████████████| 5/5 [00:01<00:00,  3.84batch/s]\n"
     ]
    },
    {
     "name": "stdout",
     "output_type": "stream",
     "text": [
      "[Epoch 41]\t training loss = -2.226\t validation loss = -2.215\n"
     ]
    },
    {
     "name": "stderr",
     "output_type": "stream",
     "text": [
      "Epoch 42: 100%|████████████████████████████████████████████████████████████████████████████████████████████| 5/5 [00:01<00:00,  3.83batch/s]\n"
     ]
    },
    {
     "name": "stdout",
     "output_type": "stream",
     "text": [
      "[Epoch 42]\t training loss = -2.230\t validation loss = -2.188\n"
     ]
    },
    {
     "name": "stderr",
     "output_type": "stream",
     "text": [
      "Epoch 43: 100%|████████████████████████████████████████████████████████████████████████████████████████████| 5/5 [00:01<00:00,  3.92batch/s]\n"
     ]
    },
    {
     "name": "stdout",
     "output_type": "stream",
     "text": [
      "[Epoch 43]\t training loss = -2.231\t validation loss = -2.165\n"
     ]
    },
    {
     "name": "stderr",
     "output_type": "stream",
     "text": [
      "Epoch 44: 100%|████████████████████████████████████████████████████████████████████████████████████████████| 5/5 [00:01<00:00,  3.83batch/s]\n"
     ]
    },
    {
     "name": "stdout",
     "output_type": "stream",
     "text": [
      "[Epoch 44]\t training loss = -2.231\t validation loss = -2.176\n"
     ]
    },
    {
     "name": "stderr",
     "output_type": "stream",
     "text": [
      "Epoch 45: 100%|████████████████████████████████████████████████████████████████████████████████████████████| 5/5 [00:01<00:00,  3.90batch/s]\n"
     ]
    },
    {
     "name": "stdout",
     "output_type": "stream",
     "text": [
      "[Epoch 45]\t training loss = -2.236\t validation loss = -2.220\n"
     ]
    },
    {
     "name": "stderr",
     "output_type": "stream",
     "text": [
      "Epoch 46: 100%|████████████████████████████████████████████████████████████████████████████████████████████| 5/5 [00:01<00:00,  3.80batch/s]\n"
     ]
    },
    {
     "name": "stdout",
     "output_type": "stream",
     "text": [
      "[Epoch 46]\t training loss = -2.239\t validation loss = -2.231\n"
     ]
    },
    {
     "name": "stderr",
     "output_type": "stream",
     "text": [
      "Epoch 47: 100%|████████████████████████████████████████████████████████████████████████████████████████████| 5/5 [00:01<00:00,  3.87batch/s]\n"
     ]
    },
    {
     "name": "stdout",
     "output_type": "stream",
     "text": [
      "[Epoch 47]\t training loss = -2.242\t validation loss = -2.223\n"
     ]
    },
    {
     "name": "stderr",
     "output_type": "stream",
     "text": [
      "Epoch 48: 100%|████████████████████████████████████████████████████████████████████████████████████████████| 5/5 [00:01<00:00,  3.62batch/s]\n"
     ]
    },
    {
     "name": "stdout",
     "output_type": "stream",
     "text": [
      "[Epoch 48]\t training loss = -2.239\t validation loss = -2.199\n"
     ]
    },
    {
     "name": "stderr",
     "output_type": "stream",
     "text": [
      "Epoch 49: 100%|████████████████████████████████████████████████████████████████████████████████████████████| 5/5 [00:01<00:00,  3.81batch/s]\n"
     ]
    },
    {
     "name": "stdout",
     "output_type": "stream",
     "text": [
      "[Epoch 49]\t training loss = -2.240\t validation loss = -2.200\n"
     ]
    },
    {
     "name": "stderr",
     "output_type": "stream",
     "text": [
      "Epoch 50: 100%|████████████████████████████████████████████████████████████████████████████████████████████| 5/5 [00:01<00:00,  3.85batch/s]\n"
     ]
    },
    {
     "name": "stdout",
     "output_type": "stream",
     "text": [
      "[Epoch 50]\t training loss = -2.245\t validation loss = -2.217\n"
     ]
    },
    {
     "name": "stderr",
     "output_type": "stream",
     "text": [
      "Epoch 51: 100%|████████████████████████████████████████████████████████████████████████████████████████████| 5/5 [00:01<00:00,  3.81batch/s]\n"
     ]
    },
    {
     "name": "stdout",
     "output_type": "stream",
     "text": [
      "[Epoch 51]\t training loss = -2.248\t validation loss = -2.199\n"
     ]
    },
    {
     "name": "stderr",
     "output_type": "stream",
     "text": [
      "Epoch 52: 100%|████████████████████████████████████████████████████████████████████████████████████████████| 5/5 [00:01<00:00,  3.89batch/s]\n"
     ]
    },
    {
     "name": "stdout",
     "output_type": "stream",
     "text": [
      "[Epoch 52]\t training loss = -2.249\t validation loss = -2.223\n"
     ]
    },
    {
     "name": "stderr",
     "output_type": "stream",
     "text": [
      "Epoch 53: 100%|████████████████████████████████████████████████████████████████████████████████████████████| 5/5 [00:01<00:00,  3.84batch/s]\n"
     ]
    },
    {
     "name": "stdout",
     "output_type": "stream",
     "text": [
      "[Epoch 53]\t training loss = -2.249\t validation loss = -2.227\n"
     ]
    },
    {
     "name": "stderr",
     "output_type": "stream",
     "text": [
      "Epoch 54: 100%|████████████████████████████████████████████████████████████████████████████████████████████| 5/5 [00:01<00:00,  3.88batch/s]\n"
     ]
    },
    {
     "name": "stdout",
     "output_type": "stream",
     "text": [
      "[Epoch 54]\t training loss = -2.253\t validation loss = -2.239\n"
     ]
    },
    {
     "name": "stderr",
     "output_type": "stream",
     "text": [
      "Epoch 55: 100%|████████████████████████████████████████████████████████████████████████████████████████████| 5/5 [00:01<00:00,  3.82batch/s]\n"
     ]
    },
    {
     "name": "stdout",
     "output_type": "stream",
     "text": [
      "[Epoch 55]\t training loss = -2.252\t validation loss = -2.210\n"
     ]
    },
    {
     "name": "stderr",
     "output_type": "stream",
     "text": [
      "Epoch 56: 100%|████████████████████████████████████████████████████████████████████████████████████████████| 5/5 [00:01<00:00,  3.83batch/s]\n"
     ]
    },
    {
     "name": "stdout",
     "output_type": "stream",
     "text": [
      "[Epoch 56]\t training loss = -2.253\t validation loss = -2.166\n"
     ]
    },
    {
     "name": "stderr",
     "output_type": "stream",
     "text": [
      "Epoch 57: 100%|████████████████████████████████████████████████████████████████████████████████████████████| 5/5 [00:01<00:00,  3.55batch/s]\n"
     ]
    },
    {
     "name": "stdout",
     "output_type": "stream",
     "text": [
      "[Epoch 57]\t training loss = -2.257\t validation loss = -2.229\n"
     ]
    },
    {
     "name": "stderr",
     "output_type": "stream",
     "text": [
      "Epoch 58: 100%|████████████████████████████████████████████████████████████████████████████████████████████| 5/5 [00:01<00:00,  3.78batch/s]\n"
     ]
    },
    {
     "name": "stdout",
     "output_type": "stream",
     "text": [
      "[Epoch 58]\t training loss = -2.259\t validation loss = -2.156\n"
     ]
    },
    {
     "name": "stderr",
     "output_type": "stream",
     "text": [
      "Epoch 59: 100%|████████████████████████████████████████████████████████████████████████████████████████████| 5/5 [00:01<00:00,  3.83batch/s]\n"
     ]
    },
    {
     "name": "stdout",
     "output_type": "stream",
     "text": [
      "[Epoch 59]\t training loss = -2.261\t validation loss = -2.136\n"
     ]
    },
    {
     "name": "stderr",
     "output_type": "stream",
     "text": [
      "Epoch 60: 100%|████████████████████████████████████████████████████████████████████████████████████████████| 5/5 [00:01<00:00,  3.79batch/s]\n"
     ]
    },
    {
     "name": "stdout",
     "output_type": "stream",
     "text": [
      "[Epoch 60]\t training loss = -2.263\t validation loss = -2.236\n"
     ]
    },
    {
     "name": "stderr",
     "output_type": "stream",
     "text": [
      "Epoch 61: 100%|████████████████████████████████████████████████████████████████████████████████████████████| 5/5 [00:01<00:00,  3.90batch/s]\n"
     ]
    },
    {
     "name": "stdout",
     "output_type": "stream",
     "text": [
      "[Epoch 61]\t training loss = -2.267\t validation loss = -2.238\n"
     ]
    },
    {
     "name": "stderr",
     "output_type": "stream",
     "text": [
      "Epoch 62: 100%|████████████████████████████████████████████████████████████████████████████████████████████| 5/5 [00:01<00:00,  3.87batch/s]\n"
     ]
    },
    {
     "name": "stdout",
     "output_type": "stream",
     "text": [
      "[Epoch 62]\t training loss = -2.265\t validation loss = -2.275\n"
     ]
    },
    {
     "name": "stderr",
     "output_type": "stream",
     "text": [
      "Epoch 63: 100%|████████████████████████████████████████████████████████████████████████████████████████████| 5/5 [00:01<00:00,  3.91batch/s]\n"
     ]
    },
    {
     "name": "stdout",
     "output_type": "stream",
     "text": [
      "[Epoch 63]\t training loss = -2.270\t validation loss = -2.278\n"
     ]
    },
    {
     "name": "stderr",
     "output_type": "stream",
     "text": [
      "Epoch 64: 100%|████████████████████████████████████████████████████████████████████████████████████████████| 5/5 [00:01<00:00,  3.84batch/s]\n"
     ]
    },
    {
     "name": "stdout",
     "output_type": "stream",
     "text": [
      "[Epoch 64]\t training loss = -2.270\t validation loss = -2.198\n"
     ]
    },
    {
     "name": "stderr",
     "output_type": "stream",
     "text": [
      "Epoch 65: 100%|████████████████████████████████████████████████████████████████████████████████████████████| 5/5 [00:01<00:00,  3.88batch/s]\n"
     ]
    },
    {
     "name": "stdout",
     "output_type": "stream",
     "text": [
      "[Epoch 65]\t training loss = -2.273\t validation loss = -2.116\n"
     ]
    },
    {
     "name": "stderr",
     "output_type": "stream",
     "text": [
      "Epoch 66: 100%|████████████████████████████████████████████████████████████████████████████████████████████| 5/5 [00:01<00:00,  3.62batch/s]\n"
     ]
    },
    {
     "name": "stdout",
     "output_type": "stream",
     "text": [
      "[Epoch 66]\t training loss = -2.272\t validation loss = -2.255\n"
     ]
    },
    {
     "name": "stderr",
     "output_type": "stream",
     "text": [
      "Epoch 67: 100%|████████████████████████████████████████████████████████████████████████████████████████████| 5/5 [00:01<00:00,  3.81batch/s]\n"
     ]
    },
    {
     "name": "stdout",
     "output_type": "stream",
     "text": [
      "[Epoch 67]\t training loss = -2.275\t validation loss = -2.242\n"
     ]
    },
    {
     "name": "stderr",
     "output_type": "stream",
     "text": [
      "Epoch 68: 100%|████████████████████████████████████████████████████████████████████████████████████████████| 5/5 [00:01<00:00,  3.85batch/s]\n"
     ]
    },
    {
     "name": "stdout",
     "output_type": "stream",
     "text": [
      "[Epoch 68]\t training loss = -2.276\t validation loss = -2.290\n"
     ]
    },
    {
     "name": "stderr",
     "output_type": "stream",
     "text": [
      "Epoch 69: 100%|████████████████████████████████████████████████████████████████████████████████████████████| 5/5 [00:01<00:00,  3.85batch/s]\n"
     ]
    },
    {
     "name": "stdout",
     "output_type": "stream",
     "text": [
      "[Epoch 69]\t training loss = -2.282\t validation loss = -2.244\n"
     ]
    },
    {
     "name": "stderr",
     "output_type": "stream",
     "text": [
      "Epoch 70: 100%|████████████████████████████████████████████████████████████████████████████████████████████| 5/5 [00:01<00:00,  3.92batch/s]\n"
     ]
    },
    {
     "name": "stdout",
     "output_type": "stream",
     "text": [
      "[Epoch 70]\t training loss = -2.283\t validation loss = -2.239\n"
     ]
    },
    {
     "name": "stderr",
     "output_type": "stream",
     "text": [
      "Epoch 71: 100%|████████████████████████████████████████████████████████████████████████████████████████████| 5/5 [00:01<00:00,  3.86batch/s]\n"
     ]
    },
    {
     "name": "stdout",
     "output_type": "stream",
     "text": [
      "[Epoch 71]\t training loss = -2.283\t validation loss = -2.290\n"
     ]
    },
    {
     "name": "stderr",
     "output_type": "stream",
     "text": [
      "Epoch 72: 100%|████████████████████████████████████████████████████████████████████████████████████████████| 5/5 [00:01<00:00,  3.93batch/s]\n"
     ]
    },
    {
     "name": "stdout",
     "output_type": "stream",
     "text": [
      "[Epoch 72]\t training loss = -2.284\t validation loss = -2.199\n"
     ]
    },
    {
     "name": "stderr",
     "output_type": "stream",
     "text": [
      "Epoch 73: 100%|████████████████████████████████████████████████████████████████████████████████████████████| 5/5 [00:01<00:00,  3.79batch/s]\n"
     ]
    },
    {
     "name": "stdout",
     "output_type": "stream",
     "text": [
      "[Epoch 73]\t training loss = -2.283\t validation loss = -2.285\n"
     ]
    },
    {
     "name": "stderr",
     "output_type": "stream",
     "text": [
      "Epoch 74: 100%|████████████████████████████████████████████████████████████████████████████████████████████| 5/5 [00:01<00:00,  3.83batch/s]\n"
     ]
    },
    {
     "name": "stdout",
     "output_type": "stream",
     "text": [
      "[Epoch 74]\t training loss = -2.281\t validation loss = -2.297\n"
     ]
    },
    {
     "name": "stderr",
     "output_type": "stream",
     "text": [
      "Epoch 75: 100%|████████████████████████████████████████████████████████████████████████████████████████████| 5/5 [00:01<00:00,  3.64batch/s]\n"
     ]
    },
    {
     "name": "stdout",
     "output_type": "stream",
     "text": [
      "[Epoch 75]\t training loss = -2.286\t validation loss = -2.132\n"
     ]
    },
    {
     "name": "stderr",
     "output_type": "stream",
     "text": [
      "Epoch 76: 100%|████████████████████████████████████████████████████████████████████████████████████████████| 5/5 [00:01<00:00,  3.83batch/s]\n"
     ]
    },
    {
     "name": "stdout",
     "output_type": "stream",
     "text": [
      "[Epoch 76]\t training loss = -2.285\t validation loss = -2.155\n"
     ]
    },
    {
     "name": "stderr",
     "output_type": "stream",
     "text": [
      "Epoch 77: 100%|████████████████████████████████████████████████████████████████████████████████████████████| 5/5 [00:01<00:00,  3.88batch/s]\n"
     ]
    },
    {
     "name": "stdout",
     "output_type": "stream",
     "text": [
      "[Epoch 77]\t training loss = -2.282\t validation loss = -2.162\n"
     ]
    },
    {
     "name": "stderr",
     "output_type": "stream",
     "text": [
      "Epoch 78: 100%|████████████████████████████████████████████████████████████████████████████████████████████| 5/5 [00:01<00:00,  3.74batch/s]\n"
     ]
    },
    {
     "name": "stdout",
     "output_type": "stream",
     "text": [
      "[Epoch 78]\t training loss = -2.286\t validation loss = -2.274\n"
     ]
    },
    {
     "name": "stderr",
     "output_type": "stream",
     "text": [
      "Epoch 79: 100%|████████████████████████████████████████████████████████████████████████████████████████████| 5/5 [00:01<00:00,  3.91batch/s]\n"
     ]
    },
    {
     "name": "stdout",
     "output_type": "stream",
     "text": [
      "[Epoch 79]\t training loss = -2.284\t validation loss = -2.288\n"
     ]
    },
    {
     "name": "stderr",
     "output_type": "stream",
     "text": [
      "Epoch 80: 100%|████████████████████████████████████████████████████████████████████████████████████████████| 5/5 [00:01<00:00,  3.82batch/s]\n"
     ]
    },
    {
     "name": "stdout",
     "output_type": "stream",
     "text": [
      "[Epoch 80]\t training loss = -2.293\t validation loss = -2.283\n"
     ]
    },
    {
     "name": "stderr",
     "output_type": "stream",
     "text": [
      "Epoch 81: 100%|████████████████████████████████████████████████████████████████████████████████████████████| 5/5 [00:01<00:00,  3.90batch/s]\n"
     ]
    },
    {
     "name": "stdout",
     "output_type": "stream",
     "text": [
      "[Epoch 81]\t training loss = -2.294\t validation loss = -2.315\n"
     ]
    },
    {
     "name": "stderr",
     "output_type": "stream",
     "text": [
      "Epoch 82: 100%|████████████████████████████████████████████████████████████████████████████████████████████| 5/5 [00:01<00:00,  3.80batch/s]\n"
     ]
    },
    {
     "name": "stdout",
     "output_type": "stream",
     "text": [
      "[Epoch 82]\t training loss = -2.297\t validation loss = -2.328\n"
     ]
    },
    {
     "name": "stderr",
     "output_type": "stream",
     "text": [
      "Epoch 83: 100%|████████████████████████████████████████████████████████████████████████████████████████████| 5/5 [00:01<00:00,  3.86batch/s]\n"
     ]
    },
    {
     "name": "stdout",
     "output_type": "stream",
     "text": [
      "[Epoch 83]\t training loss = -2.297\t validation loss = -2.304\n"
     ]
    },
    {
     "name": "stderr",
     "output_type": "stream",
     "text": [
      "Epoch 84: 100%|████████████████████████████████████████████████████████████████████████████████████████████| 5/5 [00:01<00:00,  3.64batch/s]\n"
     ]
    },
    {
     "name": "stdout",
     "output_type": "stream",
     "text": [
      "[Epoch 84]\t training loss = -2.296\t validation loss = -2.325\n"
     ]
    },
    {
     "name": "stderr",
     "output_type": "stream",
     "text": [
      "Epoch 85: 100%|████████████████████████████████████████████████████████████████████████████████████████████| 5/5 [00:01<00:00,  3.84batch/s]\n"
     ]
    },
    {
     "name": "stdout",
     "output_type": "stream",
     "text": [
      "[Epoch 85]\t training loss = -2.298\t validation loss = -2.323\n"
     ]
    },
    {
     "name": "stderr",
     "output_type": "stream",
     "text": [
      "Epoch 86: 100%|████████████████████████████████████████████████████████████████████████████████████████████| 5/5 [00:01<00:00,  3.80batch/s]\n"
     ]
    },
    {
     "name": "stdout",
     "output_type": "stream",
     "text": [
      "[Epoch 86]\t training loss = -2.297\t validation loss = -2.329\n"
     ]
    },
    {
     "name": "stderr",
     "output_type": "stream",
     "text": [
      "Epoch 87: 100%|████████████████████████████████████████████████████████████████████████████████████████████| 5/5 [00:01<00:00,  3.83batch/s]\n"
     ]
    },
    {
     "name": "stdout",
     "output_type": "stream",
     "text": [
      "[Epoch 87]\t training loss = -2.300\t validation loss = -2.314\n"
     ]
    },
    {
     "name": "stderr",
     "output_type": "stream",
     "text": [
      "Epoch 88: 100%|████████████████████████████████████████████████████████████████████████████████████████████| 5/5 [00:01<00:00,  3.91batch/s]\n"
     ]
    },
    {
     "name": "stdout",
     "output_type": "stream",
     "text": [
      "[Epoch 88]\t training loss = -2.297\t validation loss = -2.284\n"
     ]
    },
    {
     "name": "stderr",
     "output_type": "stream",
     "text": [
      "Epoch 89: 100%|████████████████████████████████████████████████████████████████████████████████████████████| 5/5 [00:01<00:00,  3.86batch/s]\n"
     ]
    },
    {
     "name": "stdout",
     "output_type": "stream",
     "text": [
      "[Epoch 89]\t training loss = -2.298\t validation loss = -2.176\n"
     ]
    },
    {
     "name": "stderr",
     "output_type": "stream",
     "text": [
      "Epoch 90: 100%|████████████████████████████████████████████████████████████████████████████████████████████| 5/5 [00:01<00:00,  3.93batch/s]\n"
     ]
    },
    {
     "name": "stdout",
     "output_type": "stream",
     "text": [
      "[Epoch 90]\t training loss = -2.300\t validation loss = -2.277\n"
     ]
    },
    {
     "name": "stderr",
     "output_type": "stream",
     "text": [
      "Epoch 91: 100%|████████████████████████████████████████████████████████████████████████████████████████████| 5/5 [00:01<00:00,  3.83batch/s]\n"
     ]
    },
    {
     "name": "stdout",
     "output_type": "stream",
     "text": [
      "[Epoch 91]\t training loss = -2.300\t validation loss = -2.307\n"
     ]
    },
    {
     "name": "stderr",
     "output_type": "stream",
     "text": [
      "Epoch 92: 100%|████████████████████████████████████████████████████████████████████████████████████████████| 5/5 [00:01<00:00,  3.88batch/s]\n"
     ]
    },
    {
     "name": "stdout",
     "output_type": "stream",
     "text": [
      "[Epoch 92]\t training loss = -2.300\t validation loss = -2.349\n"
     ]
    },
    {
     "name": "stderr",
     "output_type": "stream",
     "text": [
      "Epoch 93: 100%|████████████████████████████████████████████████████████████████████████████████████████████| 5/5 [00:01<00:00,  3.65batch/s]\n"
     ]
    },
    {
     "name": "stdout",
     "output_type": "stream",
     "text": [
      "[Epoch 93]\t training loss = -2.303\t validation loss = -2.351\n"
     ]
    },
    {
     "name": "stderr",
     "output_type": "stream",
     "text": [
      "Epoch 94: 100%|████████████████████████████████████████████████████████████████████████████████████████████| 5/5 [00:01<00:00,  3.81batch/s]\n"
     ]
    },
    {
     "name": "stdout",
     "output_type": "stream",
     "text": [
      "[Epoch 94]\t training loss = -2.308\t validation loss = -2.244\n"
     ]
    },
    {
     "name": "stderr",
     "output_type": "stream",
     "text": [
      "Epoch 95: 100%|████████████████████████████████████████████████████████████████████████████████████████████| 5/5 [00:01<00:00,  3.85batch/s]\n"
     ]
    },
    {
     "name": "stdout",
     "output_type": "stream",
     "text": [
      "[Epoch 95]\t training loss = -2.306\t validation loss = -2.344\n"
     ]
    },
    {
     "name": "stderr",
     "output_type": "stream",
     "text": [
      "Epoch 96: 100%|████████████████████████████████████████████████████████████████████████████████████████████| 5/5 [00:01<00:00,  3.82batch/s]\n"
     ]
    },
    {
     "name": "stdout",
     "output_type": "stream",
     "text": [
      "[Epoch 96]\t training loss = -2.306\t validation loss = -2.354\n"
     ]
    },
    {
     "name": "stderr",
     "output_type": "stream",
     "text": [
      "Epoch 97: 100%|████████████████████████████████████████████████████████████████████████████████████████████| 5/5 [00:01<00:00,  3.91batch/s]\n"
     ]
    },
    {
     "name": "stdout",
     "output_type": "stream",
     "text": [
      "[Epoch 97]\t training loss = -2.303\t validation loss = -2.320\n"
     ]
    },
    {
     "name": "stderr",
     "output_type": "stream",
     "text": [
      "Epoch 98: 100%|████████████████████████████████████████████████████████████████████████████████████████████| 5/5 [00:01<00:00,  3.84batch/s]\n"
     ]
    },
    {
     "name": "stdout",
     "output_type": "stream",
     "text": [
      "[Epoch 98]\t training loss = -2.304\t validation loss = -2.353\n"
     ]
    },
    {
     "name": "stderr",
     "output_type": "stream",
     "text": [
      "Epoch 99: 100%|████████████████████████████████████████████████████████████████████████████████████████████| 5/5 [00:01<00:00,  3.90batch/s]\n"
     ]
    },
    {
     "name": "stdout",
     "output_type": "stream",
     "text": [
      "[Epoch 99]\t training loss = -2.307\t validation loss = -2.277\n"
     ]
    },
    {
     "name": "stderr",
     "output_type": "stream",
     "text": [
      "Epoch 100: 100%|███████████████████████████████████████████████████████████████████████████████████████████| 5/5 [00:01<00:00,  3.81batch/s]\n"
     ]
    },
    {
     "name": "stdout",
     "output_type": "stream",
     "text": [
      "[Epoch 100]\t training loss = -2.305\t validation loss = -2.262\n"
     ]
    },
    {
     "name": "stderr",
     "output_type": "stream",
     "text": [
      "Epoch 101: 100%|███████████████████████████████████████████████████████████████████████████████████████████| 5/5 [00:01<00:00,  3.88batch/s]\n"
     ]
    },
    {
     "name": "stdout",
     "output_type": "stream",
     "text": [
      "[Epoch 101]\t training loss = -2.309\t validation loss = -2.237\n"
     ]
    },
    {
     "name": "stderr",
     "output_type": "stream",
     "text": [
      "Epoch 102: 100%|███████████████████████████████████████████████████████████████████████████████████████████| 5/5 [00:01<00:00,  3.65batch/s]\n"
     ]
    },
    {
     "name": "stdout",
     "output_type": "stream",
     "text": [
      "[Epoch 102]\t training loss = -2.308\t validation loss = -2.351\n"
     ]
    },
    {
     "name": "stderr",
     "output_type": "stream",
     "text": [
      "Epoch 103: 100%|███████████████████████████████████████████████████████████████████████████████████████████| 5/5 [00:01<00:00,  3.84batch/s]\n"
     ]
    },
    {
     "name": "stdout",
     "output_type": "stream",
     "text": [
      "[Epoch 103]\t training loss = -2.311\t validation loss = -2.339\n"
     ]
    },
    {
     "name": "stderr",
     "output_type": "stream",
     "text": [
      "Epoch 104: 100%|███████████████████████████████████████████████████████████████████████████████████████████| 5/5 [00:01<00:00,  3.89batch/s]\n"
     ]
    },
    {
     "name": "stdout",
     "output_type": "stream",
     "text": [
      "[Epoch 104]\t training loss = -2.312\t validation loss = -2.366\n"
     ]
    },
    {
     "name": "stderr",
     "output_type": "stream",
     "text": [
      "Epoch 105: 100%|███████████████████████████████████████████████████████████████████████████████████████████| 5/5 [00:01<00:00,  3.85batch/s]\n"
     ]
    },
    {
     "name": "stdout",
     "output_type": "stream",
     "text": [
      "[Epoch 105]\t training loss = -2.310\t validation loss = -2.277\n"
     ]
    },
    {
     "name": "stderr",
     "output_type": "stream",
     "text": [
      "Epoch 106: 100%|███████████████████████████████████████████████████████████████████████████████████████████| 5/5 [00:01<00:00,  3.92batch/s]\n"
     ]
    },
    {
     "name": "stdout",
     "output_type": "stream",
     "text": [
      "[Epoch 106]\t training loss = -2.313\t validation loss = -2.099\n"
     ]
    },
    {
     "name": "stderr",
     "output_type": "stream",
     "text": [
      "Epoch 107: 100%|███████████████████████████████████████████████████████████████████████████████████████████| 5/5 [00:01<00:00,  3.83batch/s]\n"
     ]
    },
    {
     "name": "stdout",
     "output_type": "stream",
     "text": [
      "[Epoch 107]\t training loss = -2.308\t validation loss = -2.354\n"
     ]
    },
    {
     "name": "stderr",
     "output_type": "stream",
     "text": [
      "Epoch 108: 100%|███████████████████████████████████████████████████████████████████████████████████████████| 5/5 [00:01<00:00,  3.93batch/s]\n"
     ]
    },
    {
     "name": "stdout",
     "output_type": "stream",
     "text": [
      "[Epoch 108]\t training loss = -2.312\t validation loss = -2.351\n"
     ]
    },
    {
     "name": "stderr",
     "output_type": "stream",
     "text": [
      "Epoch 109: 100%|███████████████████████████████████████████████████████████████████████████████████████████| 5/5 [00:01<00:00,  3.83batch/s]\n"
     ]
    },
    {
     "name": "stdout",
     "output_type": "stream",
     "text": [
      "[Epoch 109]\t training loss = -2.318\t validation loss = -2.330\n"
     ]
    },
    {
     "name": "stderr",
     "output_type": "stream",
     "text": [
      "Epoch 110: 100%|███████████████████████████████████████████████████████████████████████████████████████████| 5/5 [00:01<00:00,  3.87batch/s]\n"
     ]
    },
    {
     "name": "stdout",
     "output_type": "stream",
     "text": [
      "[Epoch 110]\t training loss = -2.315\t validation loss = -2.297\n"
     ]
    },
    {
     "name": "stderr",
     "output_type": "stream",
     "text": [
      "Epoch 111: 100%|███████████████████████████████████████████████████████████████████████████████████████████| 5/5 [00:01<00:00,  3.66batch/s]\n"
     ]
    },
    {
     "name": "stdout",
     "output_type": "stream",
     "text": [
      "[Epoch 111]\t training loss = -2.312\t validation loss = -2.362\n"
     ]
    },
    {
     "name": "stderr",
     "output_type": "stream",
     "text": [
      "Epoch 112: 100%|███████████████████████████████████████████████████████████████████████████████████████████| 5/5 [00:01<00:00,  3.83batch/s]\n"
     ]
    },
    {
     "name": "stdout",
     "output_type": "stream",
     "text": [
      "[Epoch 112]\t training loss = -2.313\t validation loss = -2.341\n"
     ]
    },
    {
     "name": "stderr",
     "output_type": "stream",
     "text": [
      "Epoch 113: 100%|███████████████████████████████████████████████████████████████████████████████████████████| 5/5 [00:01<00:00,  3.88batch/s]\n"
     ]
    },
    {
     "name": "stdout",
     "output_type": "stream",
     "text": [
      "[Epoch 113]\t training loss = -2.316\t validation loss = -2.359\n"
     ]
    },
    {
     "name": "stderr",
     "output_type": "stream",
     "text": [
      "Epoch 114: 100%|███████████████████████████████████████████████████████████████████████████████████████████| 5/5 [00:01<00:00,  3.86batch/s]\n"
     ]
    },
    {
     "name": "stdout",
     "output_type": "stream",
     "text": [
      "[Epoch 114]\t training loss = -2.316\t validation loss = -2.293\n"
     ]
    },
    {
     "name": "stderr",
     "output_type": "stream",
     "text": [
      "Epoch 115: 100%|███████████████████████████████████████████████████████████████████████████████████████████| 5/5 [00:01<00:00,  3.94batch/s]\n"
     ]
    },
    {
     "name": "stdout",
     "output_type": "stream",
     "text": [
      "[Epoch 115]\t training loss = -2.315\t validation loss = -2.353\n"
     ]
    },
    {
     "name": "stderr",
     "output_type": "stream",
     "text": [
      "Epoch 116: 100%|███████████████████████████████████████████████████████████████████████████████████████████| 5/5 [00:01<00:00,  3.81batch/s]\n"
     ]
    },
    {
     "name": "stdout",
     "output_type": "stream",
     "text": [
      "[Epoch 116]\t training loss = -2.317\t validation loss = -2.332\n"
     ]
    },
    {
     "name": "stderr",
     "output_type": "stream",
     "text": [
      "Epoch 117: 100%|███████████████████████████████████████████████████████████████████████████████████████████| 5/5 [00:01<00:00,  3.85batch/s]\n"
     ]
    },
    {
     "name": "stdout",
     "output_type": "stream",
     "text": [
      "[Epoch 117]\t training loss = -2.313\t validation loss = -2.336\n"
     ]
    },
    {
     "name": "stderr",
     "output_type": "stream",
     "text": [
      "Epoch 118: 100%|███████████████████████████████████████████████████████████████████████████████████████████| 5/5 [00:01<00:00,  3.84batch/s]\n"
     ]
    },
    {
     "name": "stdout",
     "output_type": "stream",
     "text": [
      "[Epoch 118]\t training loss = -2.315\t validation loss = -2.331\n"
     ]
    },
    {
     "name": "stderr",
     "output_type": "stream",
     "text": [
      "Epoch 119: 100%|███████████████████████████████████████████████████████████████████████████████████████████| 5/5 [00:01<00:00,  3.89batch/s]\n"
     ]
    },
    {
     "name": "stdout",
     "output_type": "stream",
     "text": [
      "[Epoch 119]\t training loss = -2.314\t validation loss = -2.341\n"
     ]
    },
    {
     "name": "stderr",
     "output_type": "stream",
     "text": [
      "Epoch 120: 100%|███████████████████████████████████████████████████████████████████████████████████████████| 5/5 [00:01<00:00,  3.65batch/s]\n"
     ]
    },
    {
     "name": "stdout",
     "output_type": "stream",
     "text": [
      "[Epoch 120]\t training loss = -2.316\t validation loss = -2.289\n"
     ]
    },
    {
     "name": "stderr",
     "output_type": "stream",
     "text": [
      "Epoch 121: 100%|███████████████████████████████████████████████████████████████████████████████████████████| 5/5 [00:01<00:00,  3.79batch/s]\n"
     ]
    },
    {
     "name": "stdout",
     "output_type": "stream",
     "text": [
      "[Epoch 121]\t training loss = -2.319\t validation loss = -2.334\n"
     ]
    },
    {
     "name": "stderr",
     "output_type": "stream",
     "text": [
      "Epoch 122: 100%|███████████████████████████████████████████████████████████████████████████████████████████| 5/5 [00:01<00:00,  3.88batch/s]\n"
     ]
    },
    {
     "name": "stdout",
     "output_type": "stream",
     "text": [
      "[Epoch 122]\t training loss = -2.319\t validation loss = -2.347\n"
     ]
    },
    {
     "name": "stderr",
     "output_type": "stream",
     "text": [
      "Epoch 123: 100%|███████████████████████████████████████████████████████████████████████████████████████████| 5/5 [00:01<00:00,  3.72batch/s]\n"
     ]
    },
    {
     "name": "stdout",
     "output_type": "stream",
     "text": [
      "[Epoch 123]\t training loss = -2.318\t validation loss = -2.371\n"
     ]
    },
    {
     "name": "stderr",
     "output_type": "stream",
     "text": [
      "Epoch 124: 100%|███████████████████████████████████████████████████████████████████████████████████████████| 5/5 [00:01<00:00,  3.92batch/s]\n"
     ]
    },
    {
     "name": "stdout",
     "output_type": "stream",
     "text": [
      "[Epoch 124]\t training loss = -2.320\t validation loss = -2.352\n"
     ]
    },
    {
     "name": "stderr",
     "output_type": "stream",
     "text": [
      "Epoch 125: 100%|███████████████████████████████████████████████████████████████████████████████████████████| 5/5 [00:01<00:00,  3.81batch/s]\n"
     ]
    },
    {
     "name": "stdout",
     "output_type": "stream",
     "text": [
      "[Epoch 125]\t training loss = -2.319\t validation loss = -2.354\n"
     ]
    },
    {
     "name": "stderr",
     "output_type": "stream",
     "text": [
      "Epoch 126: 100%|███████████████████████████████████████████████████████████████████████████████████████████| 5/5 [00:01<00:00,  3.87batch/s]\n"
     ]
    },
    {
     "name": "stdout",
     "output_type": "stream",
     "text": [
      "[Epoch 126]\t training loss = -2.318\t validation loss = -2.368\n"
     ]
    },
    {
     "name": "stderr",
     "output_type": "stream",
     "text": [
      "Epoch 127: 100%|███████████████████████████████████████████████████████████████████████████████████████████| 5/5 [00:01<00:00,  3.82batch/s]\n"
     ]
    },
    {
     "name": "stdout",
     "output_type": "stream",
     "text": [
      "[Epoch 127]\t training loss = -2.321\t validation loss = -2.368\n"
     ]
    },
    {
     "name": "stderr",
     "output_type": "stream",
     "text": [
      "Epoch 128: 100%|███████████████████████████████████████████████████████████████████████████████████████████| 5/5 [00:01<00:00,  3.89batch/s]\n"
     ]
    },
    {
     "name": "stdout",
     "output_type": "stream",
     "text": [
      "[Epoch 128]\t training loss = -2.320\t validation loss = -2.375\n"
     ]
    },
    {
     "name": "stderr",
     "output_type": "stream",
     "text": [
      "Epoch 129: 100%|███████████████████████████████████████████████████████████████████████████████████████████| 5/5 [00:01<00:00,  3.63batch/s]\n"
     ]
    },
    {
     "name": "stdout",
     "output_type": "stream",
     "text": [
      "[Epoch 129]\t training loss = -2.321\t validation loss = -2.372\n"
     ]
    },
    {
     "name": "stderr",
     "output_type": "stream",
     "text": [
      "Epoch 130: 100%|███████████████████████████████████████████████████████████████████████████████████████████| 5/5 [00:01<00:00,  3.82batch/s]\n"
     ]
    },
    {
     "name": "stdout",
     "output_type": "stream",
     "text": [
      "[Epoch 130]\t training loss = -2.323\t validation loss = -2.368\n"
     ]
    },
    {
     "name": "stderr",
     "output_type": "stream",
     "text": [
      "Epoch 131: 100%|███████████████████████████████████████████████████████████████████████████████████████████| 5/5 [00:01<00:00,  3.88batch/s]\n"
     ]
    },
    {
     "name": "stdout",
     "output_type": "stream",
     "text": [
      "[Epoch 131]\t training loss = -2.323\t validation loss = -2.381\n"
     ]
    },
    {
     "name": "stderr",
     "output_type": "stream",
     "text": [
      "Epoch 132: 100%|███████████████████████████████████████████████████████████████████████████████████████████| 5/5 [00:01<00:00,  3.84batch/s]\n"
     ]
    },
    {
     "name": "stdout",
     "output_type": "stream",
     "text": [
      "[Epoch 132]\t training loss = -2.322\t validation loss = -2.373\n"
     ]
    },
    {
     "name": "stderr",
     "output_type": "stream",
     "text": [
      "Epoch 133: 100%|███████████████████████████████████████████████████████████████████████████████████████████| 5/5 [00:01<00:00,  3.91batch/s]\n"
     ]
    },
    {
     "name": "stdout",
     "output_type": "stream",
     "text": [
      "[Epoch 133]\t training loss = -2.322\t validation loss = -2.359\n"
     ]
    },
    {
     "name": "stderr",
     "output_type": "stream",
     "text": [
      "Epoch 134: 100%|███████████████████████████████████████████████████████████████████████████████████████████| 5/5 [00:01<00:00,  3.86batch/s]\n"
     ]
    },
    {
     "name": "stdout",
     "output_type": "stream",
     "text": [
      "[Epoch 134]\t training loss = -2.322\t validation loss = -2.359\n"
     ]
    },
    {
     "name": "stderr",
     "output_type": "stream",
     "text": [
      "Epoch 135: 100%|███████████████████████████████████████████████████████████████████████████████████████████| 5/5 [00:01<00:00,  3.94batch/s]\n"
     ]
    },
    {
     "name": "stdout",
     "output_type": "stream",
     "text": [
      "[Epoch 135]\t training loss = -2.323\t validation loss = -2.378\n"
     ]
    },
    {
     "name": "stderr",
     "output_type": "stream",
     "text": [
      "Epoch 136: 100%|███████████████████████████████████████████████████████████████████████████████████████████| 5/5 [00:01<00:00,  3.83batch/s]\n"
     ]
    },
    {
     "name": "stdout",
     "output_type": "stream",
     "text": [
      "[Epoch 136]\t training loss = -2.322\t validation loss = -2.376\n"
     ]
    },
    {
     "name": "stderr",
     "output_type": "stream",
     "text": [
      "Epoch 137: 100%|███████████████████████████████████████████████████████████████████████████████████████████| 5/5 [00:01<00:00,  3.87batch/s]\n"
     ]
    },
    {
     "name": "stdout",
     "output_type": "stream",
     "text": [
      "[Epoch 137]\t training loss = -2.323\t validation loss = -2.383\n"
     ]
    },
    {
     "name": "stderr",
     "output_type": "stream",
     "text": [
      "Epoch 138: 100%|███████████████████████████████████████████████████████████████████████████████████████████| 5/5 [00:01<00:00,  3.61batch/s]\n"
     ]
    },
    {
     "name": "stdout",
     "output_type": "stream",
     "text": [
      "[Epoch 138]\t training loss = -2.325\t validation loss = -2.380\n"
     ]
    },
    {
     "name": "stderr",
     "output_type": "stream",
     "text": [
      "Epoch 139: 100%|███████████████████████████████████████████████████████████████████████████████████████████| 5/5 [00:01<00:00,  3.79batch/s]\n"
     ]
    },
    {
     "name": "stdout",
     "output_type": "stream",
     "text": [
      "[Epoch 139]\t training loss = -2.325\t validation loss = -2.386\n"
     ]
    },
    {
     "name": "stderr",
     "output_type": "stream",
     "text": [
      "Epoch 140: 100%|███████████████████████████████████████████████████████████████████████████████████████████| 5/5 [00:01<00:00,  3.86batch/s]\n"
     ]
    },
    {
     "name": "stdout",
     "output_type": "stream",
     "text": [
      "[Epoch 140]\t training loss = -2.325\t validation loss = -2.385\n"
     ]
    },
    {
     "name": "stderr",
     "output_type": "stream",
     "text": [
      "Epoch 141: 100%|███████████████████████████████████████████████████████████████████████████████████████████| 5/5 [00:01<00:00,  3.86batch/s]\n"
     ]
    },
    {
     "name": "stdout",
     "output_type": "stream",
     "text": [
      "[Epoch 141]\t training loss = -2.326\t validation loss = -2.381\n"
     ]
    },
    {
     "name": "stderr",
     "output_type": "stream",
     "text": [
      "Epoch 142: 100%|███████████████████████████████████████████████████████████████████████████████████████████| 5/5 [00:01<00:00,  3.95batch/s]\n"
     ]
    },
    {
     "name": "stdout",
     "output_type": "stream",
     "text": [
      "[Epoch 142]\t training loss = -2.323\t validation loss = -2.367\n"
     ]
    },
    {
     "name": "stderr",
     "output_type": "stream",
     "text": [
      "Epoch 143: 100%|███████████████████████████████████████████████████████████████████████████████████████████| 5/5 [00:01<00:00,  3.88batch/s]\n"
     ]
    },
    {
     "name": "stdout",
     "output_type": "stream",
     "text": [
      "[Epoch 143]\t training loss = -2.328\t validation loss = -2.385\n"
     ]
    },
    {
     "name": "stderr",
     "output_type": "stream",
     "text": [
      "Epoch 144: 100%|███████████████████████████████████████████████████████████████████████████████████████████| 5/5 [00:01<00:00,  3.95batch/s]\n"
     ]
    },
    {
     "name": "stdout",
     "output_type": "stream",
     "text": [
      "[Epoch 144]\t training loss = -2.328\t validation loss = -2.378\n"
     ]
    },
    {
     "name": "stderr",
     "output_type": "stream",
     "text": [
      "Epoch 145: 100%|███████████████████████████████████████████████████████████████████████████████████████████| 5/5 [00:01<00:00,  3.80batch/s]\n"
     ]
    },
    {
     "name": "stdout",
     "output_type": "stream",
     "text": [
      "[Epoch 145]\t training loss = -2.327\t validation loss = -2.376\n"
     ]
    },
    {
     "name": "stderr",
     "output_type": "stream",
     "text": [
      "Epoch 146: 100%|███████████████████████████████████████████████████████████████████████████████████████████| 5/5 [00:01<00:00,  3.91batch/s]\n"
     ]
    },
    {
     "name": "stdout",
     "output_type": "stream",
     "text": [
      "[Epoch 146]\t training loss = -2.327\t validation loss = -2.376\n"
     ]
    },
    {
     "name": "stderr",
     "output_type": "stream",
     "text": [
      "Epoch 147: 100%|███████████████████████████████████████████████████████████████████████████████████████████| 5/5 [00:01<00:00,  3.66batch/s]\n"
     ]
    },
    {
     "name": "stdout",
     "output_type": "stream",
     "text": [
      "[Epoch 147]\t training loss = -2.324\t validation loss = -2.378\n"
     ]
    },
    {
     "name": "stderr",
     "output_type": "stream",
     "text": [
      "Epoch 148: 100%|███████████████████████████████████████████████████████████████████████████████████████████| 5/5 [00:01<00:00,  3.84batch/s]\n"
     ]
    },
    {
     "name": "stdout",
     "output_type": "stream",
     "text": [
      "[Epoch 148]\t training loss = -2.328\t validation loss = -2.378\n"
     ]
    },
    {
     "name": "stderr",
     "output_type": "stream",
     "text": [
      "Epoch 149: 100%|███████████████████████████████████████████████████████████████████████████████████████████| 5/5 [00:01<00:00,  3.90batch/s]\n"
     ]
    },
    {
     "name": "stdout",
     "output_type": "stream",
     "text": [
      "[Epoch 149]\t training loss = -2.327\t validation loss = -2.387\n"
     ]
    },
    {
     "name": "stderr",
     "output_type": "stream",
     "text": [
      "Epoch 150: 100%|███████████████████████████████████████████████████████████████████████████████████████████| 5/5 [00:01<00:00,  3.87batch/s]\n"
     ]
    },
    {
     "name": "stdout",
     "output_type": "stream",
     "text": [
      "[Epoch 150]\t training loss = -2.327\t validation loss = -2.373\n"
     ]
    },
    {
     "name": "stderr",
     "output_type": "stream",
     "text": [
      "Epoch 151: 100%|███████████████████████████████████████████████████████████████████████████████████████████| 5/5 [00:01<00:00,  3.92batch/s]\n"
     ]
    },
    {
     "name": "stdout",
     "output_type": "stream",
     "text": [
      "[Epoch 151]\t training loss = -2.327\t validation loss = -2.370\n"
     ]
    },
    {
     "name": "stderr",
     "output_type": "stream",
     "text": [
      "Epoch 152: 100%|███████████████████████████████████████████████████████████████████████████████████████████| 5/5 [00:01<00:00,  3.85batch/s]\n"
     ]
    },
    {
     "name": "stdout",
     "output_type": "stream",
     "text": [
      "[Epoch 152]\t training loss = -2.327\t validation loss = -2.391\n"
     ]
    },
    {
     "name": "stderr",
     "output_type": "stream",
     "text": [
      "Epoch 153: 100%|███████████████████████████████████████████████████████████████████████████████████████████| 5/5 [00:01<00:00,  3.92batch/s]\n"
     ]
    },
    {
     "name": "stdout",
     "output_type": "stream",
     "text": [
      "[Epoch 153]\t training loss = -2.326\t validation loss = -2.381\n"
     ]
    },
    {
     "name": "stderr",
     "output_type": "stream",
     "text": [
      "Epoch 154: 100%|███████████████████████████████████████████████████████████████████████████████████████████| 5/5 [00:01<00:00,  3.80batch/s]\n"
     ]
    },
    {
     "name": "stdout",
     "output_type": "stream",
     "text": [
      "[Epoch 154]\t training loss = -2.327\t validation loss = -2.391\n"
     ]
    },
    {
     "name": "stderr",
     "output_type": "stream",
     "text": [
      "Epoch 155: 100%|███████████████████████████████████████████████████████████████████████████████████████████| 5/5 [00:01<00:00,  3.85batch/s]\n"
     ]
    },
    {
     "name": "stdout",
     "output_type": "stream",
     "text": [
      "[Epoch 155]\t training loss = -2.330\t validation loss = -2.384\n"
     ]
    },
    {
     "name": "stderr",
     "output_type": "stream",
     "text": [
      "Epoch 156: 100%|███████████████████████████████████████████████████████████████████████████████████████████| 5/5 [00:01<00:00,  3.64batch/s]\n"
     ]
    },
    {
     "name": "stdout",
     "output_type": "stream",
     "text": [
      "[Epoch 156]\t training loss = -2.327\t validation loss = -2.384\n"
     ]
    },
    {
     "name": "stderr",
     "output_type": "stream",
     "text": [
      "Epoch 157: 100%|███████████████████████████████████████████████████████████████████████████████████████████| 5/5 [00:01<00:00,  3.84batch/s]\n"
     ]
    },
    {
     "name": "stdout",
     "output_type": "stream",
     "text": [
      "[Epoch 157]\t training loss = -2.329\t validation loss = -2.384\n"
     ]
    },
    {
     "name": "stderr",
     "output_type": "stream",
     "text": [
      "Epoch 158: 100%|███████████████████████████████████████████████████████████████████████████████████████████| 5/5 [00:01<00:00,  3.88batch/s]\n"
     ]
    },
    {
     "name": "stdout",
     "output_type": "stream",
     "text": [
      "[Epoch 158]\t training loss = -2.328\t validation loss = -2.389\n"
     ]
    },
    {
     "name": "stderr",
     "output_type": "stream",
     "text": [
      "Epoch 159: 100%|███████████████████████████████████████████████████████████████████████████████████████████| 5/5 [00:01<00:00,  3.85batch/s]\n"
     ]
    },
    {
     "name": "stdout",
     "output_type": "stream",
     "text": [
      "[Epoch 159]\t training loss = -2.327\t validation loss = -2.384\n"
     ]
    },
    {
     "name": "stderr",
     "output_type": "stream",
     "text": [
      "Epoch 160: 100%|███████████████████████████████████████████████████████████████████████████████████████████| 5/5 [00:01<00:00,  3.84batch/s]\n"
     ]
    },
    {
     "name": "stdout",
     "output_type": "stream",
     "text": [
      "[Epoch 160]\t training loss = -2.328\t validation loss = -2.389\n"
     ]
    },
    {
     "name": "stderr",
     "output_type": "stream",
     "text": [
      "Epoch 161: 100%|███████████████████████████████████████████████████████████████████████████████████████████| 5/5 [00:01<00:00,  3.80batch/s]\n"
     ]
    },
    {
     "name": "stdout",
     "output_type": "stream",
     "text": [
      "[Epoch 161]\t training loss = -2.330\t validation loss = -2.388\n"
     ]
    },
    {
     "name": "stderr",
     "output_type": "stream",
     "text": [
      "Epoch 162: 100%|███████████████████████████████████████████████████████████████████████████████████████████| 5/5 [00:01<00:00,  3.92batch/s]\n"
     ]
    },
    {
     "name": "stdout",
     "output_type": "stream",
     "text": [
      "[Epoch 162]\t training loss = -2.327\t validation loss = -2.384\n"
     ]
    },
    {
     "name": "stderr",
     "output_type": "stream",
     "text": [
      "Epoch 163: 100%|███████████████████████████████████████████████████████████████████████████████████████████| 5/5 [00:01<00:00,  3.86batch/s]\n"
     ]
    },
    {
     "name": "stdout",
     "output_type": "stream",
     "text": [
      "[Epoch 163]\t training loss = -2.327\t validation loss = -2.382\n"
     ]
    },
    {
     "name": "stderr",
     "output_type": "stream",
     "text": [
      "Epoch 164: 100%|███████████████████████████████████████████████████████████████████████████████████████████| 5/5 [00:01<00:00,  3.85batch/s]\n"
     ]
    },
    {
     "name": "stdout",
     "output_type": "stream",
     "text": [
      "[Epoch 164]\t training loss = -2.328\t validation loss = -2.393\n"
     ]
    },
    {
     "name": "stderr",
     "output_type": "stream",
     "text": [
      "Epoch 165: 100%|███████████████████████████████████████████████████████████████████████████████████████████| 5/5 [00:01<00:00,  3.66batch/s]\n"
     ]
    },
    {
     "name": "stdout",
     "output_type": "stream",
     "text": [
      "[Epoch 165]\t training loss = -2.330\t validation loss = -2.385\n"
     ]
    },
    {
     "name": "stderr",
     "output_type": "stream",
     "text": [
      "Epoch 166: 100%|███████████████████████████████████████████████████████████████████████████████████████████| 5/5 [00:01<00:00,  3.84batch/s]\n"
     ]
    },
    {
     "name": "stdout",
     "output_type": "stream",
     "text": [
      "[Epoch 166]\t training loss = -2.331\t validation loss = -2.386\n"
     ]
    },
    {
     "name": "stderr",
     "output_type": "stream",
     "text": [
      "Epoch 167: 100%|███████████████████████████████████████████████████████████████████████████████████████████| 5/5 [00:01<00:00,  3.86batch/s]\n"
     ]
    },
    {
     "name": "stdout",
     "output_type": "stream",
     "text": [
      "[Epoch 167]\t training loss = -2.333\t validation loss = -2.388\n"
     ]
    },
    {
     "name": "stderr",
     "output_type": "stream",
     "text": [
      "Epoch 168: 100%|███████████████████████████████████████████████████████████████████████████████████████████| 5/5 [00:01<00:00,  3.81batch/s]\n"
     ]
    },
    {
     "name": "stdout",
     "output_type": "stream",
     "text": [
      "[Epoch 168]\t training loss = -2.327\t validation loss = -2.387\n"
     ]
    },
    {
     "name": "stderr",
     "output_type": "stream",
     "text": [
      "Epoch 169: 100%|███████████████████████████████████████████████████████████████████████████████████████████| 5/5 [00:01<00:00,  3.93batch/s]\n"
     ]
    },
    {
     "name": "stdout",
     "output_type": "stream",
     "text": [
      "[Epoch 169]\t training loss = -2.331\t validation loss = -2.390\n"
     ]
    },
    {
     "name": "stderr",
     "output_type": "stream",
     "text": [
      "Epoch 170: 100%|███████████████████████████████████████████████████████████████████████████████████████████| 5/5 [00:01<00:00,  3.85batch/s]\n"
     ]
    },
    {
     "name": "stdout",
     "output_type": "stream",
     "text": [
      "[Epoch 170]\t training loss = -2.334\t validation loss = -2.389\n"
     ]
    },
    {
     "name": "stderr",
     "output_type": "stream",
     "text": [
      "Epoch 171: 100%|███████████████████████████████████████████████████████████████████████████████████████████| 5/5 [00:01<00:00,  3.93batch/s]\n"
     ]
    },
    {
     "name": "stdout",
     "output_type": "stream",
     "text": [
      "[Epoch 171]\t training loss = -2.333\t validation loss = -2.394\n"
     ]
    },
    {
     "name": "stderr",
     "output_type": "stream",
     "text": [
      "Epoch 172: 100%|███████████████████████████████████████████████████████████████████████████████████████████| 5/5 [00:01<00:00,  3.82batch/s]\n"
     ]
    },
    {
     "name": "stdout",
     "output_type": "stream",
     "text": [
      "[Epoch 172]\t training loss = -2.329\t validation loss = -2.390\n"
     ]
    },
    {
     "name": "stderr",
     "output_type": "stream",
     "text": [
      "Epoch 173: 100%|███████████████████████████████████████████████████████████████████████████████████████████| 5/5 [00:01<00:00,  3.87batch/s]\n"
     ]
    },
    {
     "name": "stdout",
     "output_type": "stream",
     "text": [
      "[Epoch 173]\t training loss = -2.330\t validation loss = -2.391\n"
     ]
    },
    {
     "name": "stderr",
     "output_type": "stream",
     "text": [
      "Epoch 174: 100%|███████████████████████████████████████████████████████████████████████████████████████████| 5/5 [00:01<00:00,  3.64batch/s]\n"
     ]
    },
    {
     "name": "stdout",
     "output_type": "stream",
     "text": [
      "[Epoch 174]\t training loss = -2.331\t validation loss = -2.394\n"
     ]
    },
    {
     "name": "stderr",
     "output_type": "stream",
     "text": [
      "Epoch 175: 100%|███████████████████████████████████████████████████████████████████████████████████████████| 5/5 [00:01<00:00,  3.85batch/s]\n"
     ]
    },
    {
     "name": "stdout",
     "output_type": "stream",
     "text": [
      "[Epoch 175]\t training loss = -2.332\t validation loss = -2.392\n"
     ]
    },
    {
     "name": "stderr",
     "output_type": "stream",
     "text": [
      "Epoch 176: 100%|███████████████████████████████████████████████████████████████████████████████████████████| 5/5 [00:01<00:00,  3.90batch/s]\n"
     ]
    },
    {
     "name": "stdout",
     "output_type": "stream",
     "text": [
      "[Epoch 176]\t training loss = -2.329\t validation loss = -2.390\n"
     ]
    },
    {
     "name": "stderr",
     "output_type": "stream",
     "text": [
      "Epoch 177: 100%|███████████████████████████████████████████████████████████████████████████████████████████| 5/5 [00:01<00:00,  3.89batch/s]\n"
     ]
    },
    {
     "name": "stdout",
     "output_type": "stream",
     "text": [
      "[Epoch 177]\t training loss = -2.332\t validation loss = -2.392\n"
     ]
    },
    {
     "name": "stderr",
     "output_type": "stream",
     "text": [
      "Epoch 178: 100%|███████████████████████████████████████████████████████████████████████████████████████████| 5/5 [00:01<00:00,  3.91batch/s]\n"
     ]
    },
    {
     "name": "stdout",
     "output_type": "stream",
     "text": [
      "[Epoch 178]\t training loss = -2.333\t validation loss = -2.392\n"
     ]
    },
    {
     "name": "stderr",
     "output_type": "stream",
     "text": [
      "Epoch 179: 100%|███████████████████████████████████████████████████████████████████████████████████████████| 5/5 [00:01<00:00,  3.85batch/s]\n"
     ]
    },
    {
     "name": "stdout",
     "output_type": "stream",
     "text": [
      "[Epoch 179]\t training loss = -2.334\t validation loss = -2.389\n"
     ]
    },
    {
     "name": "stderr",
     "output_type": "stream",
     "text": [
      "Epoch 180: 100%|███████████████████████████████████████████████████████████████████████████████████████████| 5/5 [00:01<00:00,  3.92batch/s]\n"
     ]
    },
    {
     "name": "stdout",
     "output_type": "stream",
     "text": [
      "[Epoch 180]\t training loss = -2.332\t validation loss = -2.390\n"
     ]
    },
    {
     "name": "stderr",
     "output_type": "stream",
     "text": [
      "Epoch 181: 100%|███████████████████████████████████████████████████████████████████████████████████████████| 5/5 [00:01<00:00,  3.85batch/s]\n"
     ]
    },
    {
     "name": "stdout",
     "output_type": "stream",
     "text": [
      "[Epoch 181]\t training loss = -2.330\t validation loss = -2.391\n"
     ]
    },
    {
     "name": "stderr",
     "output_type": "stream",
     "text": [
      "Epoch 182: 100%|███████████████████████████████████████████████████████████████████████████████████████████| 5/5 [00:01<00:00,  3.87batch/s]\n"
     ]
    },
    {
     "name": "stdout",
     "output_type": "stream",
     "text": [
      "[Epoch 182]\t training loss = -2.331\t validation loss = -2.392\n"
     ]
    },
    {
     "name": "stderr",
     "output_type": "stream",
     "text": [
      "Epoch 183: 100%|███████████████████████████████████████████████████████████████████████████████████████████| 5/5 [00:01<00:00,  3.60batch/s]\n"
     ]
    },
    {
     "name": "stdout",
     "output_type": "stream",
     "text": [
      "[Epoch 183]\t training loss = -2.334\t validation loss = -2.393\n"
     ]
    },
    {
     "name": "stderr",
     "output_type": "stream",
     "text": [
      "Epoch 184: 100%|███████████████████████████████████████████████████████████████████████████████████████████| 5/5 [00:01<00:00,  3.86batch/s]\n"
     ]
    },
    {
     "name": "stdout",
     "output_type": "stream",
     "text": [
      "[Epoch 184]\t training loss = -2.329\t validation loss = -2.393\n"
     ]
    },
    {
     "name": "stderr",
     "output_type": "stream",
     "text": [
      "Epoch 185: 100%|███████████████████████████████████████████████████████████████████████████████████████████| 5/5 [00:01<00:00,  3.88batch/s]\n"
     ]
    },
    {
     "name": "stdout",
     "output_type": "stream",
     "text": [
      "[Epoch 185]\t training loss = -2.332\t validation loss = -2.392\n"
     ]
    },
    {
     "name": "stderr",
     "output_type": "stream",
     "text": [
      "Epoch 186: 100%|███████████████████████████████████████████████████████████████████████████████████████████| 5/5 [00:01<00:00,  3.86batch/s]\n"
     ]
    },
    {
     "name": "stdout",
     "output_type": "stream",
     "text": [
      "[Epoch 186]\t training loss = -2.333\t validation loss = -2.395\n"
     ]
    },
    {
     "name": "stderr",
     "output_type": "stream",
     "text": [
      "Epoch 187: 100%|███████████████████████████████████████████████████████████████████████████████████████████| 5/5 [00:01<00:00,  3.94batch/s]\n"
     ]
    },
    {
     "name": "stdout",
     "output_type": "stream",
     "text": [
      "[Epoch 187]\t training loss = -2.332\t validation loss = -2.389\n"
     ]
    },
    {
     "name": "stderr",
     "output_type": "stream",
     "text": [
      "Epoch 188: 100%|███████████████████████████████████████████████████████████████████████████████████████████| 5/5 [00:01<00:00,  3.84batch/s]\n"
     ]
    },
    {
     "name": "stdout",
     "output_type": "stream",
     "text": [
      "[Epoch 188]\t training loss = -2.334\t validation loss = -2.392\n"
     ]
    },
    {
     "name": "stderr",
     "output_type": "stream",
     "text": [
      "Epoch 189: 100%|███████████████████████████████████████████████████████████████████████████████████████████| 5/5 [00:01<00:00,  3.92batch/s]\n"
     ]
    },
    {
     "name": "stdout",
     "output_type": "stream",
     "text": [
      "[Epoch 189]\t training loss = -2.333\t validation loss = -2.393\n"
     ]
    },
    {
     "name": "stderr",
     "output_type": "stream",
     "text": [
      "Epoch 190: 100%|███████████████████████████████████████████████████████████████████████████████████████████| 5/5 [00:01<00:00,  3.81batch/s]\n"
     ]
    },
    {
     "name": "stdout",
     "output_type": "stream",
     "text": [
      "[Epoch 190]\t training loss = -2.331\t validation loss = -2.394\n"
     ]
    },
    {
     "name": "stderr",
     "output_type": "stream",
     "text": [
      "Epoch 191: 100%|███████████████████████████████████████████████████████████████████████████████████████████| 5/5 [00:01<00:00,  3.89batch/s]\n"
     ]
    },
    {
     "name": "stdout",
     "output_type": "stream",
     "text": [
      "[Epoch 191]\t training loss = -2.334\t validation loss = -2.391\n"
     ]
    },
    {
     "name": "stderr",
     "output_type": "stream",
     "text": [
      "Epoch 192: 100%|███████████████████████████████████████████████████████████████████████████████████████████| 5/5 [00:01<00:00,  3.64batch/s]\n"
     ]
    },
    {
     "name": "stdout",
     "output_type": "stream",
     "text": [
      "[Epoch 192]\t training loss = -2.332\t validation loss = -2.392\n"
     ]
    },
    {
     "name": "stderr",
     "output_type": "stream",
     "text": [
      "Epoch 193: 100%|███████████████████████████████████████████████████████████████████████████████████████████| 5/5 [00:01<00:00,  3.82batch/s]\n"
     ]
    },
    {
     "name": "stdout",
     "output_type": "stream",
     "text": [
      "[Epoch 193]\t training loss = -2.332\t validation loss = -2.394\n"
     ]
    },
    {
     "name": "stderr",
     "output_type": "stream",
     "text": [
      "Epoch 194: 100%|███████████████████████████████████████████████████████████████████████████████████████████| 5/5 [00:01<00:00,  3.87batch/s]\n"
     ]
    },
    {
     "name": "stdout",
     "output_type": "stream",
     "text": [
      "[Epoch 194]\t training loss = -2.333\t validation loss = -2.395\n"
     ]
    },
    {
     "name": "stderr",
     "output_type": "stream",
     "text": [
      "Epoch 195: 100%|███████████████████████████████████████████████████████████████████████████████████████████| 5/5 [00:01<00:00,  3.83batch/s]\n"
     ]
    },
    {
     "name": "stdout",
     "output_type": "stream",
     "text": [
      "[Epoch 195]\t training loss = -2.333\t validation loss = -2.395\n"
     ]
    },
    {
     "name": "stderr",
     "output_type": "stream",
     "text": [
      "Epoch 196: 100%|███████████████████████████████████████████████████████████████████████████████████████████| 5/5 [00:01<00:00,  3.94batch/s]\n"
     ]
    },
    {
     "name": "stdout",
     "output_type": "stream",
     "text": [
      "[Epoch 196]\t training loss = -2.335\t validation loss = -2.394\n"
     ]
    },
    {
     "name": "stderr",
     "output_type": "stream",
     "text": [
      "Epoch 197: 100%|███████████████████████████████████████████████████████████████████████████████████████████| 5/5 [00:01<00:00,  3.83batch/s]\n"
     ]
    },
    {
     "name": "stdout",
     "output_type": "stream",
     "text": [
      "[Epoch 197]\t training loss = -2.333\t validation loss = -2.396\n"
     ]
    },
    {
     "name": "stderr",
     "output_type": "stream",
     "text": [
      "Epoch 198: 100%|███████████████████████████████████████████████████████████████████████████████████████████| 5/5 [00:01<00:00,  3.91batch/s]\n"
     ]
    },
    {
     "name": "stdout",
     "output_type": "stream",
     "text": [
      "[Epoch 198]\t training loss = -2.333\t validation loss = -2.395\n"
     ]
    },
    {
     "name": "stderr",
     "output_type": "stream",
     "text": [
      "Epoch 199: 100%|███████████████████████████████████████████████████████████████████████████████████████████| 5/5 [00:01<00:00,  3.84batch/s]\n"
     ]
    },
    {
     "name": "stdout",
     "output_type": "stream",
     "text": [
      "[Epoch 199]\t training loss = -2.334\t validation loss = -2.396\n"
     ]
    },
    {
     "name": "stderr",
     "output_type": "stream",
     "text": [
      "Epoch 200: 100%|███████████████████████████████████████████████████████████████████████████████████████████| 5/5 [00:01<00:00,  3.84batch/s]\n"
     ]
    },
    {
     "name": "stdout",
     "output_type": "stream",
     "text": [
      "[Epoch 200]\t training loss = -2.334\t validation loss = -2.394\n"
     ]
    },
    {
     "name": "stderr",
     "output_type": "stream",
     "text": [
      "Epoch 201: 100%|███████████████████████████████████████████████████████████████████████████████████████████| 5/5 [00:01<00:00,  3.65batch/s]\n"
     ]
    },
    {
     "name": "stdout",
     "output_type": "stream",
     "text": [
      "[Epoch 201]\t training loss = -2.332\t validation loss = -2.390\n"
     ]
    },
    {
     "name": "stderr",
     "output_type": "stream",
     "text": [
      "Epoch 202: 100%|███████████████████████████████████████████████████████████████████████████████████████████| 5/5 [00:01<00:00,  3.84batch/s]\n"
     ]
    },
    {
     "name": "stdout",
     "output_type": "stream",
     "text": [
      "[Epoch 202]\t training loss = -2.335\t validation loss = -2.395\n"
     ]
    },
    {
     "name": "stderr",
     "output_type": "stream",
     "text": [
      "Epoch 203: 100%|███████████████████████████████████████████████████████████████████████████████████████████| 5/5 [00:01<00:00,  3.88batch/s]\n"
     ]
    },
    {
     "name": "stdout",
     "output_type": "stream",
     "text": [
      "[Epoch 203]\t training loss = -2.336\t validation loss = -2.395\n"
     ]
    },
    {
     "name": "stderr",
     "output_type": "stream",
     "text": [
      "Epoch 204: 100%|███████████████████████████████████████████████████████████████████████████████████████████| 5/5 [00:01<00:00,  3.82batch/s]\n"
     ]
    },
    {
     "name": "stdout",
     "output_type": "stream",
     "text": [
      "[Epoch 204]\t training loss = -2.333\t validation loss = -2.394\n"
     ]
    },
    {
     "name": "stderr",
     "output_type": "stream",
     "text": [
      "Epoch 205: 100%|███████████████████████████████████████████████████████████████████████████████████████████| 5/5 [00:01<00:00,  3.90batch/s]\n"
     ]
    },
    {
     "name": "stdout",
     "output_type": "stream",
     "text": [
      "[Epoch 205]\t training loss = -2.337\t validation loss = -2.395\n"
     ]
    },
    {
     "name": "stderr",
     "output_type": "stream",
     "text": [
      "Epoch 206: 100%|███████████████████████████████████████████████████████████████████████████████████████████| 5/5 [00:01<00:00,  3.86batch/s]\n"
     ]
    },
    {
     "name": "stdout",
     "output_type": "stream",
     "text": [
      "[Epoch 206]\t training loss = -2.331\t validation loss = -2.398\n"
     ]
    },
    {
     "name": "stderr",
     "output_type": "stream",
     "text": [
      "Epoch 207: 100%|███████████████████████████████████████████████████████████████████████████████████████████| 5/5 [00:01<00:00,  3.93batch/s]\n"
     ]
    },
    {
     "name": "stdout",
     "output_type": "stream",
     "text": [
      "[Epoch 207]\t training loss = -2.335\t validation loss = -2.396\n"
     ]
    },
    {
     "name": "stderr",
     "output_type": "stream",
     "text": [
      "Epoch 208: 100%|███████████████████████████████████████████████████████████████████████████████████████████| 5/5 [00:01<00:00,  3.84batch/s]\n"
     ]
    },
    {
     "name": "stdout",
     "output_type": "stream",
     "text": [
      "[Epoch 208]\t training loss = -2.334\t validation loss = -2.395\n"
     ]
    },
    {
     "name": "stderr",
     "output_type": "stream",
     "text": [
      "Epoch 209: 100%|███████████████████████████████████████████████████████████████████████████████████████████| 5/5 [00:01<00:00,  3.88batch/s]\n"
     ]
    },
    {
     "name": "stdout",
     "output_type": "stream",
     "text": [
      "[Epoch 209]\t training loss = -2.331\t validation loss = -2.396\n"
     ]
    },
    {
     "name": "stderr",
     "output_type": "stream",
     "text": [
      "Epoch 210: 100%|███████████████████████████████████████████████████████████████████████████████████████████| 5/5 [00:01<00:00,  3.65batch/s]\n"
     ]
    },
    {
     "name": "stdout",
     "output_type": "stream",
     "text": [
      "[Epoch 210]\t training loss = -2.333\t validation loss = -2.396\n"
     ]
    },
    {
     "name": "stderr",
     "output_type": "stream",
     "text": [
      "Epoch 211: 100%|███████████████████████████████████████████████████████████████████████████████████████████| 5/5 [00:01<00:00,  3.83batch/s]\n"
     ]
    },
    {
     "name": "stdout",
     "output_type": "stream",
     "text": [
      "[Epoch 211]\t training loss = -2.336\t validation loss = -2.398\n"
     ]
    },
    {
     "name": "stderr",
     "output_type": "stream",
     "text": [
      "Epoch 212: 100%|███████████████████████████████████████████████████████████████████████████████████████████| 5/5 [00:01<00:00,  3.83batch/s]\n"
     ]
    },
    {
     "name": "stdout",
     "output_type": "stream",
     "text": [
      "[Epoch 212]\t training loss = -2.334\t validation loss = -2.396\n"
     ]
    },
    {
     "name": "stderr",
     "output_type": "stream",
     "text": [
      "Epoch 213: 100%|███████████████████████████████████████████████████████████████████████████████████████████| 5/5 [00:01<00:00,  3.88batch/s]\n"
     ]
    },
    {
     "name": "stdout",
     "output_type": "stream",
     "text": [
      "[Epoch 213]\t training loss = -2.335\t validation loss = -2.394\n"
     ]
    },
    {
     "name": "stderr",
     "output_type": "stream",
     "text": [
      "Epoch 214: 100%|███████████████████████████████████████████████████████████████████████████████████████████| 5/5 [00:01<00:00,  3.93batch/s]\n"
     ]
    },
    {
     "name": "stdout",
     "output_type": "stream",
     "text": [
      "[Epoch 214]\t training loss = -2.335\t validation loss = -2.395\n"
     ]
    },
    {
     "name": "stderr",
     "output_type": "stream",
     "text": [
      "Epoch 215: 100%|███████████████████████████████████████████████████████████████████████████████████████████| 5/5 [00:01<00:00,  3.88batch/s]\n"
     ]
    },
    {
     "name": "stdout",
     "output_type": "stream",
     "text": [
      "[Epoch 215]\t training loss = -2.333\t validation loss = -2.398\n"
     ]
    },
    {
     "name": "stderr",
     "output_type": "stream",
     "text": [
      "Epoch 216: 100%|███████████████████████████████████████████████████████████████████████████████████████████| 5/5 [00:01<00:00,  3.94batch/s]\n"
     ]
    },
    {
     "name": "stdout",
     "output_type": "stream",
     "text": [
      "[Epoch 216]\t training loss = -2.335\t validation loss = -2.396\n"
     ]
    },
    {
     "name": "stderr",
     "output_type": "stream",
     "text": [
      "Epoch 217: 100%|███████████████████████████████████████████████████████████████████████████████████████████| 5/5 [00:01<00:00,  3.84batch/s]\n"
     ]
    },
    {
     "name": "stdout",
     "output_type": "stream",
     "text": [
      "[Epoch 217]\t training loss = -2.335\t validation loss = -2.395\n"
     ]
    },
    {
     "name": "stderr",
     "output_type": "stream",
     "text": [
      "Epoch 218: 100%|███████████████████████████████████████████████████████████████████████████████████████████| 5/5 [00:01<00:00,  3.90batch/s]\n"
     ]
    },
    {
     "name": "stdout",
     "output_type": "stream",
     "text": [
      "[Epoch 218]\t training loss = -2.337\t validation loss = -2.396\n"
     ]
    },
    {
     "name": "stderr",
     "output_type": "stream",
     "text": [
      "Epoch 219: 100%|███████████████████████████████████████████████████████████████████████████████████████████| 5/5 [00:01<00:00,  3.66batch/s]\n"
     ]
    },
    {
     "name": "stdout",
     "output_type": "stream",
     "text": [
      "[Epoch 219]\t training loss = -2.337\t validation loss = -2.397\n"
     ]
    },
    {
     "name": "stderr",
     "output_type": "stream",
     "text": [
      "Epoch 220: 100%|███████████████████████████████████████████████████████████████████████████████████████████| 5/5 [00:01<00:00,  3.83batch/s]\n"
     ]
    },
    {
     "name": "stdout",
     "output_type": "stream",
     "text": [
      "[Epoch 220]\t training loss = -2.334\t validation loss = -2.396\n"
     ]
    },
    {
     "name": "stderr",
     "output_type": "stream",
     "text": [
      "Epoch 221: 100%|███████████████████████████████████████████████████████████████████████████████████████████| 5/5 [00:01<00:00,  3.87batch/s]\n"
     ]
    },
    {
     "name": "stdout",
     "output_type": "stream",
     "text": [
      "[Epoch 221]\t training loss = -2.333\t validation loss = -2.396\n"
     ]
    },
    {
     "name": "stderr",
     "output_type": "stream",
     "text": [
      "Epoch 222: 100%|███████████████████████████████████████████████████████████████████████████████████████████| 5/5 [00:01<00:00,  3.83batch/s]\n"
     ]
    },
    {
     "name": "stdout",
     "output_type": "stream",
     "text": [
      "[Epoch 222]\t training loss = -2.335\t validation loss = -2.396\n"
     ]
    },
    {
     "name": "stderr",
     "output_type": "stream",
     "text": [
      "Epoch 223: 100%|███████████████████████████████████████████████████████████████████████████████████████████| 5/5 [00:01<00:00,  3.94batch/s]\n"
     ]
    },
    {
     "name": "stdout",
     "output_type": "stream",
     "text": [
      "[Epoch 223]\t training loss = -2.335\t validation loss = -2.397\n"
     ]
    },
    {
     "name": "stderr",
     "output_type": "stream",
     "text": [
      "Epoch 224: 100%|███████████████████████████████████████████████████████████████████████████████████████████| 5/5 [00:01<00:00,  3.89batch/s]\n"
     ]
    },
    {
     "name": "stdout",
     "output_type": "stream",
     "text": [
      "[Epoch 224]\t training loss = -2.335\t validation loss = -2.397\n"
     ]
    },
    {
     "name": "stderr",
     "output_type": "stream",
     "text": [
      "Epoch 225: 100%|███████████████████████████████████████████████████████████████████████████████████████████| 5/5 [00:01<00:00,  3.94batch/s]\n"
     ]
    },
    {
     "name": "stdout",
     "output_type": "stream",
     "text": [
      "[Epoch 225]\t training loss = -2.334\t validation loss = -2.396\n"
     ]
    },
    {
     "name": "stderr",
     "output_type": "stream",
     "text": [
      "Epoch 226: 100%|███████████████████████████████████████████████████████████████████████████████████████████| 5/5 [00:01<00:00,  3.80batch/s]\n"
     ]
    },
    {
     "name": "stdout",
     "output_type": "stream",
     "text": [
      "[Epoch 226]\t training loss = -2.336\t validation loss = -2.397\n"
     ]
    },
    {
     "name": "stderr",
     "output_type": "stream",
     "text": [
      "Epoch 227: 100%|███████████████████████████████████████████████████████████████████████████████████████████| 5/5 [00:01<00:00,  3.82batch/s]\n"
     ]
    },
    {
     "name": "stdout",
     "output_type": "stream",
     "text": [
      "[Epoch 227]\t training loss = -2.335\t validation loss = -2.396\n"
     ]
    },
    {
     "name": "stderr",
     "output_type": "stream",
     "text": [
      "Epoch 228: 100%|███████████████████████████████████████████████████████████████████████████████████████████| 5/5 [00:01<00:00,  3.62batch/s]\n"
     ]
    },
    {
     "name": "stdout",
     "output_type": "stream",
     "text": [
      "[Epoch 228]\t training loss = -2.333\t validation loss = -2.396\n"
     ]
    },
    {
     "name": "stderr",
     "output_type": "stream",
     "text": [
      "Epoch 229: 100%|███████████████████████████████████████████████████████████████████████████████████████████| 5/5 [00:01<00:00,  3.83batch/s]\n"
     ]
    },
    {
     "name": "stdout",
     "output_type": "stream",
     "text": [
      "[Epoch 229]\t training loss = -2.334\t validation loss = -2.396\n"
     ]
    },
    {
     "name": "stderr",
     "output_type": "stream",
     "text": [
      "Epoch 230: 100%|███████████████████████████████████████████████████████████████████████████████████████████| 5/5 [00:01<00:00,  3.83batch/s]\n"
     ]
    },
    {
     "name": "stdout",
     "output_type": "stream",
     "text": [
      "[Epoch 230]\t training loss = -2.337\t validation loss = -2.396\n"
     ]
    },
    {
     "name": "stderr",
     "output_type": "stream",
     "text": [
      "Epoch 231: 100%|███████████████████████████████████████████████████████████████████████████████████████████| 5/5 [00:01<00:00,  3.85batch/s]\n"
     ]
    },
    {
     "name": "stdout",
     "output_type": "stream",
     "text": [
      "[Epoch 231]\t training loss = -2.338\t validation loss = -2.396\n"
     ]
    },
    {
     "name": "stderr",
     "output_type": "stream",
     "text": [
      "Epoch 232: 100%|███████████████████████████████████████████████████████████████████████████████████████████| 5/5 [00:01<00:00,  3.92batch/s]\n"
     ]
    },
    {
     "name": "stdout",
     "output_type": "stream",
     "text": [
      "[Epoch 232]\t training loss = -2.337\t validation loss = -2.399\n"
     ]
    },
    {
     "name": "stderr",
     "output_type": "stream",
     "text": [
      "Epoch 233: 100%|███████████████████████████████████████████████████████████████████████████████████████████| 5/5 [00:01<00:00,  3.86batch/s]\n"
     ]
    },
    {
     "name": "stdout",
     "output_type": "stream",
     "text": [
      "[Epoch 233]\t training loss = -2.333\t validation loss = -2.398\n"
     ]
    },
    {
     "name": "stderr",
     "output_type": "stream",
     "text": [
      "Epoch 234: 100%|███████████████████████████████████████████████████████████████████████████████████████████| 5/5 [00:01<00:00,  3.88batch/s]\n"
     ]
    },
    {
     "name": "stdout",
     "output_type": "stream",
     "text": [
      "[Epoch 234]\t training loss = -2.336\t validation loss = -2.397\n"
     ]
    },
    {
     "name": "stderr",
     "output_type": "stream",
     "text": [
      "Epoch 235: 100%|███████████████████████████████████████████████████████████████████████████████████████████| 5/5 [00:01<00:00,  3.78batch/s]\n"
     ]
    },
    {
     "name": "stdout",
     "output_type": "stream",
     "text": [
      "[Epoch 235]\t training loss = -2.334\t validation loss = -2.396\n"
     ]
    },
    {
     "name": "stderr",
     "output_type": "stream",
     "text": [
      "Epoch 236: 100%|███████████████████████████████████████████████████████████████████████████████████████████| 5/5 [00:01<00:00,  3.84batch/s]\n"
     ]
    },
    {
     "name": "stdout",
     "output_type": "stream",
     "text": [
      "[Epoch 236]\t training loss = -2.336\t validation loss = -2.397\n"
     ]
    },
    {
     "name": "stderr",
     "output_type": "stream",
     "text": [
      "Epoch 237: 100%|███████████████████████████████████████████████████████████████████████████████████████████| 5/5 [00:01<00:00,  3.66batch/s]\n"
     ]
    },
    {
     "name": "stdout",
     "output_type": "stream",
     "text": [
      "[Epoch 237]\t training loss = -2.338\t validation loss = -2.397\n"
     ]
    },
    {
     "name": "stderr",
     "output_type": "stream",
     "text": [
      "Epoch 238: 100%|███████████████████████████████████████████████████████████████████████████████████████████| 5/5 [00:01<00:00,  3.83batch/s]\n"
     ]
    },
    {
     "name": "stdout",
     "output_type": "stream",
     "text": [
      "[Epoch 238]\t training loss = -2.336\t validation loss = -2.397\n"
     ]
    },
    {
     "name": "stderr",
     "output_type": "stream",
     "text": [
      "Epoch 239: 100%|███████████████████████████████████████████████████████████████████████████████████████████| 5/5 [00:01<00:00,  3.88batch/s]\n"
     ]
    },
    {
     "name": "stdout",
     "output_type": "stream",
     "text": [
      "[Epoch 239]\t training loss = -2.339\t validation loss = -2.397\n"
     ]
    },
    {
     "name": "stderr",
     "output_type": "stream",
     "text": [
      "Epoch 240: 100%|███████████████████████████████████████████████████████████████████████████████████████████| 5/5 [00:01<00:00,  3.85batch/s]\n"
     ]
    },
    {
     "name": "stdout",
     "output_type": "stream",
     "text": [
      "[Epoch 240]\t training loss = -2.334\t validation loss = -2.398\n"
     ]
    },
    {
     "name": "stderr",
     "output_type": "stream",
     "text": [
      "Epoch 241: 100%|███████████████████████████████████████████████████████████████████████████████████████████| 5/5 [00:01<00:00,  3.91batch/s]\n"
     ]
    },
    {
     "name": "stdout",
     "output_type": "stream",
     "text": [
      "[Epoch 241]\t training loss = -2.338\t validation loss = -2.398\n"
     ]
    },
    {
     "name": "stderr",
     "output_type": "stream",
     "text": [
      "Epoch 242: 100%|███████████████████████████████████████████████████████████████████████████████████████████| 5/5 [00:01<00:00,  3.84batch/s]\n"
     ]
    },
    {
     "name": "stdout",
     "output_type": "stream",
     "text": [
      "[Epoch 242]\t training loss = -2.334\t validation loss = -2.398\n"
     ]
    },
    {
     "name": "stderr",
     "output_type": "stream",
     "text": [
      "Epoch 243: 100%|███████████████████████████████████████████████████████████████████████████████████████████| 5/5 [00:01<00:00,  3.92batch/s]\n"
     ]
    },
    {
     "name": "stdout",
     "output_type": "stream",
     "text": [
      "[Epoch 243]\t training loss = -2.335\t validation loss = -2.399\n"
     ]
    },
    {
     "name": "stderr",
     "output_type": "stream",
     "text": [
      "Epoch 244: 100%|███████████████████████████████████████████████████████████████████████████████████████████| 5/5 [00:01<00:00,  3.82batch/s]\n"
     ]
    },
    {
     "name": "stdout",
     "output_type": "stream",
     "text": [
      "[Epoch 244]\t training loss = -2.335\t validation loss = -2.398\n"
     ]
    },
    {
     "name": "stderr",
     "output_type": "stream",
     "text": [
      "Epoch 245: 100%|███████████████████████████████████████████████████████████████████████████████████████████| 5/5 [00:01<00:00,  3.86batch/s]\n"
     ]
    },
    {
     "name": "stdout",
     "output_type": "stream",
     "text": [
      "[Epoch 245]\t training loss = -2.337\t validation loss = -2.397\n"
     ]
    },
    {
     "name": "stderr",
     "output_type": "stream",
     "text": [
      "Epoch 246: 100%|███████████████████████████████████████████████████████████████████████████████████████████| 5/5 [00:01<00:00,  3.61batch/s]\n"
     ]
    },
    {
     "name": "stdout",
     "output_type": "stream",
     "text": [
      "[Epoch 246]\t training loss = -2.337\t validation loss = -2.397\n"
     ]
    },
    {
     "name": "stderr",
     "output_type": "stream",
     "text": [
      "Epoch 247: 100%|███████████████████████████████████████████████████████████████████████████████████████████| 5/5 [00:01<00:00,  3.81batch/s]\n"
     ]
    },
    {
     "name": "stdout",
     "output_type": "stream",
     "text": [
      "[Epoch 247]\t training loss = -2.339\t validation loss = -2.397\n"
     ]
    },
    {
     "name": "stderr",
     "output_type": "stream",
     "text": [
      "Epoch 248: 100%|███████████████████████████████████████████████████████████████████████████████████████████| 5/5 [00:01<00:00,  3.85batch/s]\n"
     ]
    },
    {
     "name": "stdout",
     "output_type": "stream",
     "text": [
      "[Epoch 248]\t training loss = -2.335\t validation loss = -2.398\n"
     ]
    },
    {
     "name": "stderr",
     "output_type": "stream",
     "text": [
      "Epoch 249: 100%|███████████████████████████████████████████████████████████████████████████████████████████| 5/5 [00:01<00:00,  3.83batch/s]\n"
     ]
    },
    {
     "name": "stdout",
     "output_type": "stream",
     "text": [
      "[Epoch 249]\t training loss = -2.335\t validation loss = -2.398\n"
     ]
    },
    {
     "name": "stderr",
     "output_type": "stream",
     "text": [
      "Epoch 250: 100%|███████████████████████████████████████████████████████████████████████████████████████████| 5/5 [00:01<00:00,  3.93batch/s]\n"
     ]
    },
    {
     "name": "stdout",
     "output_type": "stream",
     "text": [
      "[Epoch 250]\t training loss = -2.334\t validation loss = -2.397\n"
     ]
    },
    {
     "name": "stderr",
     "output_type": "stream",
     "text": [
      "Epoch 251: 100%|███████████████████████████████████████████████████████████████████████████████████████████| 5/5 [00:01<00:00,  3.84batch/s]\n"
     ]
    },
    {
     "name": "stdout",
     "output_type": "stream",
     "text": [
      "[Epoch 251]\t training loss = -2.338\t validation loss = -2.397\n"
     ]
    },
    {
     "name": "stderr",
     "output_type": "stream",
     "text": [
      "Epoch 252: 100%|███████████████████████████████████████████████████████████████████████████████████████████| 5/5 [00:01<00:00,  3.92batch/s]\n"
     ]
    },
    {
     "name": "stdout",
     "output_type": "stream",
     "text": [
      "[Epoch 252]\t training loss = -2.338\t validation loss = -2.397\n"
     ]
    },
    {
     "name": "stderr",
     "output_type": "stream",
     "text": [
      "Epoch 253: 100%|███████████████████████████████████████████████████████████████████████████████████████████| 5/5 [00:01<00:00,  3.82batch/s]\n"
     ]
    },
    {
     "name": "stdout",
     "output_type": "stream",
     "text": [
      "[Epoch 253]\t training loss = -2.338\t validation loss = -2.397\n"
     ]
    },
    {
     "name": "stderr",
     "output_type": "stream",
     "text": [
      "Epoch 254: 100%|███████████████████████████████████████████████████████████████████████████████████████████| 5/5 [00:01<00:00,  3.86batch/s]\n"
     ]
    },
    {
     "name": "stdout",
     "output_type": "stream",
     "text": [
      "[Epoch 254]\t training loss = -2.336\t validation loss = -2.398\n"
     ]
    },
    {
     "name": "stderr",
     "output_type": "stream",
     "text": [
      "Epoch 255: 100%|███████████████████████████████████████████████████████████████████████████████████████████| 5/5 [00:01<00:00,  3.62batch/s]\n"
     ]
    },
    {
     "name": "stdout",
     "output_type": "stream",
     "text": [
      "[Epoch 255]\t training loss = -2.337\t validation loss = -2.398\n"
     ]
    },
    {
     "name": "stderr",
     "output_type": "stream",
     "text": [
      "Epoch 256: 100%|███████████████████████████████████████████████████████████████████████████████████████████| 5/5 [00:01<00:00,  3.78batch/s]\n"
     ]
    },
    {
     "name": "stdout",
     "output_type": "stream",
     "text": [
      "[Epoch 256]\t training loss = -2.338\t validation loss = -2.398\n"
     ]
    },
    {
     "name": "stderr",
     "output_type": "stream",
     "text": [
      "Epoch 257: 100%|███████████████████████████████████████████████████████████████████████████████████████████| 5/5 [00:01<00:00,  3.84batch/s]\n"
     ]
    },
    {
     "name": "stdout",
     "output_type": "stream",
     "text": [
      "[Epoch 257]\t training loss = -2.337\t validation loss = -2.398\n"
     ]
    },
    {
     "name": "stderr",
     "output_type": "stream",
     "text": [
      "Epoch 258: 100%|███████████████████████████████████████████████████████████████████████████████████████████| 5/5 [00:01<00:00,  3.83batch/s]\n"
     ]
    },
    {
     "name": "stdout",
     "output_type": "stream",
     "text": [
      "[Epoch 258]\t training loss = -2.337\t validation loss = -2.398\n"
     ]
    },
    {
     "name": "stderr",
     "output_type": "stream",
     "text": [
      "Epoch 259: 100%|███████████████████████████████████████████████████████████████████████████████████████████| 5/5 [00:01<00:00,  3.93batch/s]\n"
     ]
    },
    {
     "name": "stdout",
     "output_type": "stream",
     "text": [
      "[Epoch 259]\t training loss = -2.337\t validation loss = -2.398\n"
     ]
    },
    {
     "name": "stderr",
     "output_type": "stream",
     "text": [
      "Epoch 260: 100%|███████████████████████████████████████████████████████████████████████████████████████████| 5/5 [00:01<00:00,  3.85batch/s]\n"
     ]
    },
    {
     "name": "stdout",
     "output_type": "stream",
     "text": [
      "[Epoch 260]\t training loss = -2.336\t validation loss = -2.399\n"
     ]
    },
    {
     "name": "stderr",
     "output_type": "stream",
     "text": [
      "Epoch 261: 100%|███████████████████████████████████████████████████████████████████████████████████████████| 5/5 [00:01<00:00,  3.94batch/s]\n"
     ]
    },
    {
     "name": "stdout",
     "output_type": "stream",
     "text": [
      "[Epoch 261]\t training loss = -2.339\t validation loss = -2.397\n"
     ]
    },
    {
     "name": "stderr",
     "output_type": "stream",
     "text": [
      "Epoch 262: 100%|███████████████████████████████████████████████████████████████████████████████████████████| 5/5 [00:01<00:00,  3.83batch/s]\n"
     ]
    },
    {
     "name": "stdout",
     "output_type": "stream",
     "text": [
      "[Epoch 262]\t training loss = -2.337\t validation loss = -2.398\n"
     ]
    },
    {
     "name": "stderr",
     "output_type": "stream",
     "text": [
      "Epoch 263: 100%|███████████████████████████████████████████████████████████████████████████████████████████| 5/5 [00:01<00:00,  3.85batch/s]\n"
     ]
    },
    {
     "name": "stdout",
     "output_type": "stream",
     "text": [
      "[Epoch 263]\t training loss = -2.337\t validation loss = -2.398\n"
     ]
    },
    {
     "name": "stderr",
     "output_type": "stream",
     "text": [
      "Epoch 264: 100%|███████████████████████████████████████████████████████████████████████████████████████████| 5/5 [00:01<00:00,  3.62batch/s]\n"
     ]
    },
    {
     "name": "stdout",
     "output_type": "stream",
     "text": [
      "[Epoch 264]\t training loss = -2.337\t validation loss = -2.397\n"
     ]
    },
    {
     "name": "stderr",
     "output_type": "stream",
     "text": [
      "Epoch 265: 100%|███████████████████████████████████████████████████████████████████████████████████████████| 5/5 [00:01<00:00,  3.81batch/s]\n"
     ]
    },
    {
     "name": "stdout",
     "output_type": "stream",
     "text": [
      "[Epoch 265]\t training loss = -2.338\t validation loss = -2.398\n"
     ]
    },
    {
     "name": "stderr",
     "output_type": "stream",
     "text": [
      "Epoch 266: 100%|███████████████████████████████████████████████████████████████████████████████████████████| 5/5 [00:01<00:00,  3.86batch/s]\n"
     ]
    },
    {
     "name": "stdout",
     "output_type": "stream",
     "text": [
      "[Epoch 266]\t training loss = -2.336\t validation loss = -2.398\n"
     ]
    },
    {
     "name": "stderr",
     "output_type": "stream",
     "text": [
      "Epoch 267: 100%|███████████████████████████████████████████████████████████████████████████████████████████| 5/5 [00:01<00:00,  3.84batch/s]\n"
     ]
    },
    {
     "name": "stdout",
     "output_type": "stream",
     "text": [
      "[Epoch 267]\t training loss = -2.336\t validation loss = -2.398\n"
     ]
    },
    {
     "name": "stderr",
     "output_type": "stream",
     "text": [
      "Epoch 268: 100%|███████████████████████████████████████████████████████████████████████████████████████████| 5/5 [00:01<00:00,  3.91batch/s]\n"
     ]
    },
    {
     "name": "stdout",
     "output_type": "stream",
     "text": [
      "[Epoch 268]\t training loss = -2.338\t validation loss = -2.398\n"
     ]
    },
    {
     "name": "stderr",
     "output_type": "stream",
     "text": [
      "Epoch 269: 100%|███████████████████████████████████████████████████████████████████████████████████████████| 5/5 [00:01<00:00,  3.83batch/s]\n"
     ]
    },
    {
     "name": "stdout",
     "output_type": "stream",
     "text": [
      "[Epoch 269]\t training loss = -2.338\t validation loss = -2.399\n"
     ]
    },
    {
     "name": "stderr",
     "output_type": "stream",
     "text": [
      "Epoch 270: 100%|███████████████████████████████████████████████████████████████████████████████████████████| 5/5 [00:01<00:00,  3.89batch/s]\n"
     ]
    },
    {
     "name": "stdout",
     "output_type": "stream",
     "text": [
      "[Epoch 270]\t training loss = -2.335\t validation loss = -2.398\n"
     ]
    },
    {
     "name": "stderr",
     "output_type": "stream",
     "text": [
      "Epoch 271: 100%|███████████████████████████████████████████████████████████████████████████████████████████| 5/5 [00:01<00:00,  3.80batch/s]\n"
     ]
    },
    {
     "name": "stdout",
     "output_type": "stream",
     "text": [
      "[Epoch 271]\t training loss = -2.334\t validation loss = -2.399\n"
     ]
    },
    {
     "name": "stderr",
     "output_type": "stream",
     "text": [
      "Epoch 272: 100%|███████████████████████████████████████████████████████████████████████████████████████████| 5/5 [00:01<00:00,  3.88batch/s]\n"
     ]
    },
    {
     "name": "stdout",
     "output_type": "stream",
     "text": [
      "[Epoch 272]\t training loss = -2.337\t validation loss = -2.398\n"
     ]
    },
    {
     "name": "stderr",
     "output_type": "stream",
     "text": [
      "Epoch 273: 100%|███████████████████████████████████████████████████████████████████████████████████████████| 5/5 [00:01<00:00,  3.61batch/s]\n"
     ]
    },
    {
     "name": "stdout",
     "output_type": "stream",
     "text": [
      "[Epoch 273]\t training loss = -2.334\t validation loss = -2.398\n"
     ]
    },
    {
     "name": "stderr",
     "output_type": "stream",
     "text": [
      "Epoch 274: 100%|███████████████████████████████████████████████████████████████████████████████████████████| 5/5 [00:01<00:00,  3.76batch/s]\n"
     ]
    },
    {
     "name": "stdout",
     "output_type": "stream",
     "text": [
      "[Epoch 274]\t training loss = -2.336\t validation loss = -2.398\n"
     ]
    },
    {
     "name": "stderr",
     "output_type": "stream",
     "text": [
      "Epoch 275: 100%|███████████████████████████████████████████████████████████████████████████████████████████| 5/5 [00:01<00:00,  3.90batch/s]\n"
     ]
    },
    {
     "name": "stdout",
     "output_type": "stream",
     "text": [
      "[Epoch 275]\t training loss = -2.334\t validation loss = -2.398\n"
     ]
    },
    {
     "name": "stderr",
     "output_type": "stream",
     "text": [
      "Epoch 276: 100%|███████████████████████████████████████████████████████████████████████████████████████████| 5/5 [00:01<00:00,  3.88batch/s]\n"
     ]
    },
    {
     "name": "stdout",
     "output_type": "stream",
     "text": [
      "[Epoch 276]\t training loss = -2.340\t validation loss = -2.398\n"
     ]
    },
    {
     "name": "stderr",
     "output_type": "stream",
     "text": [
      "Epoch 277: 100%|███████████████████████████████████████████████████████████████████████████████████████████| 5/5 [00:01<00:00,  3.95batch/s]\n"
     ]
    },
    {
     "name": "stdout",
     "output_type": "stream",
     "text": [
      "[Epoch 277]\t training loss = -2.338\t validation loss = -2.398\n"
     ]
    },
    {
     "name": "stderr",
     "output_type": "stream",
     "text": [
      "Epoch 278: 100%|███████████████████████████████████████████████████████████████████████████████████████████| 5/5 [00:01<00:00,  3.87batch/s]\n"
     ]
    },
    {
     "name": "stdout",
     "output_type": "stream",
     "text": [
      "[Epoch 278]\t training loss = -2.337\t validation loss = -2.399\n"
     ]
    },
    {
     "name": "stderr",
     "output_type": "stream",
     "text": [
      "Epoch 279: 100%|███████████████████████████████████████████████████████████████████████████████████████████| 5/5 [00:01<00:00,  3.86batch/s]\n"
     ]
    },
    {
     "name": "stdout",
     "output_type": "stream",
     "text": [
      "[Epoch 279]\t training loss = -2.336\t validation loss = -2.399\n"
     ]
    },
    {
     "name": "stderr",
     "output_type": "stream",
     "text": [
      "Epoch 280: 100%|███████████████████████████████████████████████████████████████████████████████████████████| 5/5 [00:01<00:00,  3.83batch/s]\n"
     ]
    },
    {
     "name": "stdout",
     "output_type": "stream",
     "text": [
      "[Epoch 280]\t training loss = -2.336\t validation loss = -2.399\n"
     ]
    },
    {
     "name": "stderr",
     "output_type": "stream",
     "text": [
      "Epoch 281: 100%|███████████████████████████████████████████████████████████████████████████████████████████| 5/5 [00:01<00:00,  3.87batch/s]\n"
     ]
    },
    {
     "name": "stdout",
     "output_type": "stream",
     "text": [
      "[Epoch 281]\t training loss = -2.336\t validation loss = -2.398\n"
     ]
    },
    {
     "name": "stderr",
     "output_type": "stream",
     "text": [
      "Epoch 282: 100%|███████████████████████████████████████████████████████████████████████████████████████████| 5/5 [00:01<00:00,  3.60batch/s]\n"
     ]
    },
    {
     "name": "stdout",
     "output_type": "stream",
     "text": [
      "[Epoch 282]\t training loss = -2.335\t validation loss = -2.398\n"
     ]
    },
    {
     "name": "stderr",
     "output_type": "stream",
     "text": [
      "Epoch 283: 100%|███████████████████████████████████████████████████████████████████████████████████████████| 5/5 [00:01<00:00,  3.82batch/s]\n"
     ]
    },
    {
     "name": "stdout",
     "output_type": "stream",
     "text": [
      "[Epoch 283]\t training loss = -2.338\t validation loss = -2.398\n"
     ]
    },
    {
     "name": "stderr",
     "output_type": "stream",
     "text": [
      "Epoch 284: 100%|███████████████████████████████████████████████████████████████████████████████████████████| 5/5 [00:01<00:00,  3.87batch/s]\n"
     ]
    },
    {
     "name": "stdout",
     "output_type": "stream",
     "text": [
      "[Epoch 284]\t training loss = -2.339\t validation loss = -2.398\n"
     ]
    },
    {
     "name": "stderr",
     "output_type": "stream",
     "text": [
      "Epoch 285: 100%|███████████████████████████████████████████████████████████████████████████████████████████| 5/5 [00:01<00:00,  3.83batch/s]\n"
     ]
    },
    {
     "name": "stdout",
     "output_type": "stream",
     "text": [
      "[Epoch 285]\t training loss = -2.335\t validation loss = -2.399\n"
     ]
    },
    {
     "name": "stderr",
     "output_type": "stream",
     "text": [
      "Epoch 286: 100%|███████████████████████████████████████████████████████████████████████████████████████████| 5/5 [00:01<00:00,  3.94batch/s]\n"
     ]
    },
    {
     "name": "stdout",
     "output_type": "stream",
     "text": [
      "[Epoch 286]\t training loss = -2.336\t validation loss = -2.399\n"
     ]
    },
    {
     "name": "stderr",
     "output_type": "stream",
     "text": [
      "Epoch 287: 100%|███████████████████████████████████████████████████████████████████████████████████████████| 5/5 [00:01<00:00,  3.87batch/s]\n"
     ]
    },
    {
     "name": "stdout",
     "output_type": "stream",
     "text": [
      "[Epoch 287]\t training loss = -2.339\t validation loss = -2.398\n"
     ]
    },
    {
     "name": "stderr",
     "output_type": "stream",
     "text": [
      "Epoch 288: 100%|███████████████████████████████████████████████████████████████████████████████████████████| 5/5 [00:01<00:00,  3.94batch/s]\n"
     ]
    },
    {
     "name": "stdout",
     "output_type": "stream",
     "text": [
      "[Epoch 288]\t training loss = -2.336\t validation loss = -2.398\n"
     ]
    },
    {
     "name": "stderr",
     "output_type": "stream",
     "text": [
      "Epoch 289: 100%|███████████████████████████████████████████████████████████████████████████████████████████| 5/5 [00:01<00:00,  3.82batch/s]\n"
     ]
    },
    {
     "name": "stdout",
     "output_type": "stream",
     "text": [
      "[Epoch 289]\t training loss = -2.337\t validation loss = -2.399\n"
     ]
    },
    {
     "name": "stderr",
     "output_type": "stream",
     "text": [
      "Epoch 290: 100%|███████████████████████████████████████████████████████████████████████████████████████████| 5/5 [00:01<00:00,  3.89batch/s]\n"
     ]
    },
    {
     "name": "stdout",
     "output_type": "stream",
     "text": [
      "[Epoch 290]\t training loss = -2.338\t validation loss = -2.399\n"
     ]
    },
    {
     "name": "stderr",
     "output_type": "stream",
     "text": [
      "Epoch 291: 100%|███████████████████████████████████████████████████████████████████████████████████████████| 5/5 [00:01<00:00,  3.65batch/s]\n"
     ]
    },
    {
     "name": "stdout",
     "output_type": "stream",
     "text": [
      "[Epoch 291]\t training loss = -2.340\t validation loss = -2.398\n"
     ]
    },
    {
     "name": "stderr",
     "output_type": "stream",
     "text": [
      "Epoch 292: 100%|███████████████████████████████████████████████████████████████████████████████████████████| 5/5 [00:01<00:00,  3.79batch/s]\n"
     ]
    },
    {
     "name": "stdout",
     "output_type": "stream",
     "text": [
      "[Epoch 292]\t training loss = -2.337\t validation loss = -2.399\n"
     ]
    },
    {
     "name": "stderr",
     "output_type": "stream",
     "text": [
      "Epoch 293: 100%|███████████████████████████████████████████████████████████████████████████████████████████| 5/5 [00:01<00:00,  3.84batch/s]\n"
     ]
    },
    {
     "name": "stdout",
     "output_type": "stream",
     "text": [
      "[Epoch 293]\t training loss = -2.336\t validation loss = -2.398\n"
     ]
    },
    {
     "name": "stderr",
     "output_type": "stream",
     "text": [
      "Epoch 294: 100%|███████████████████████████████████████████████████████████████████████████████████████████| 5/5 [00:01<00:00,  3.88batch/s]\n"
     ]
    },
    {
     "name": "stdout",
     "output_type": "stream",
     "text": [
      "[Epoch 294]\t training loss = -2.334\t validation loss = -2.398\n"
     ]
    },
    {
     "name": "stderr",
     "output_type": "stream",
     "text": [
      "Epoch 295: 100%|███████████████████████████████████████████████████████████████████████████████████████████| 5/5 [00:01<00:00,  3.91batch/s]\n"
     ]
    },
    {
     "name": "stdout",
     "output_type": "stream",
     "text": [
      "[Epoch 295]\t training loss = -2.337\t validation loss = -2.399\n"
     ]
    },
    {
     "name": "stderr",
     "output_type": "stream",
     "text": [
      "Epoch 296: 100%|███████████████████████████████████████████████████████████████████████████████████████████| 5/5 [00:01<00:00,  3.84batch/s]\n"
     ]
    },
    {
     "name": "stdout",
     "output_type": "stream",
     "text": [
      "[Epoch 296]\t training loss = -2.336\t validation loss = -2.399\n"
     ]
    },
    {
     "name": "stderr",
     "output_type": "stream",
     "text": [
      "Epoch 297: 100%|███████████████████████████████████████████████████████████████████████████████████████████| 5/5 [00:01<00:00,  3.90batch/s]\n"
     ]
    },
    {
     "name": "stdout",
     "output_type": "stream",
     "text": [
      "[Epoch 297]\t training loss = -2.338\t validation loss = -2.399\n"
     ]
    },
    {
     "name": "stderr",
     "output_type": "stream",
     "text": [
      "Epoch 298: 100%|███████████████████████████████████████████████████████████████████████████████████████████| 5/5 [00:01<00:00,  3.82batch/s]\n"
     ]
    },
    {
     "name": "stdout",
     "output_type": "stream",
     "text": [
      "[Epoch 298]\t training loss = -2.337\t validation loss = -2.399\n"
     ]
    },
    {
     "name": "stderr",
     "output_type": "stream",
     "text": [
      "Epoch 299: 100%|███████████████████████████████████████████████████████████████████████████████████████████| 5/5 [00:01<00:00,  3.85batch/s]\n"
     ]
    },
    {
     "name": "stdout",
     "output_type": "stream",
     "text": [
      "[Epoch 299]\t training loss = -2.336\t validation loss = -2.399\n"
     ]
    }
   ],
   "source": [
    "model_snrv.fit(coords_torch, lag=lag_n, scheduler=0.98)"
   ]
  },
  {
   "cell_type": "code",
   "execution_count": 12,
   "metadata": {},
   "outputs": [
    {
     "data": {
      "image/png": "[encoded data removed]",
      "text/plain": [
       "<Figure size 640x480 with 1 Axes>"
      ]
     },
     "metadata": {},
     "output_type": "display_data"
    }
   ],
   "source": [
    "fig, ax = plt.subplots()\n",
    "ax.plot(np.arange(len(model_snrv.training_losses)), model_snrv.training_losses)\n",
    "ax.plot(np.arange(len(model_snrv.validation_losses)), model_snrv.validation_losses)\n",
    "ax.set_xlabel('epoch')\n",
    "ax.set_ylabel('loss')\n",
    "ax.legend(['training','validation'])\n",
    "fig.tight_layout()"
   ]
  },
  {
   "cell_type": "code",
   "execution_count": 13,
   "metadata": {},
   "outputs": [],
   "source": [
    "save_freq = 100 # ps"
   ]
  },
  {
   "cell_type": "code",
   "execution_count": 14,
   "metadata": {},
   "outputs": [
    {
     "data": {
      "text/plain": [
       "<matplotlib.lines.Line2D at 0x7f851cc0e610>"
      ]
     },
     "execution_count": 14,
     "metadata": {},
     "output_type": "execute_result"
    },
    {
     "data": {
      "image/png": "[encoded data removed]",
      "text/plain": [
       "<Figure size 640x480 with 1 Axes>"
      ]
     },
     "metadata": {},
     "output_type": "display_data"
    }
   ],
   "source": [
    "evals = model_snrv.evals.cpu().detach().numpy()\n",
    "plt.bar(range(1,evals.size), -lag_n*save_freq/np.log(evals[1:]))\n",
    "plt.ylabel('Implied timescale (ps)')\n",
    "plt.xticks(range(1,evals.size))\n",
    "plt.xlabel('Timescale index')\n",
    "plt.axhline(lag_n*save_freq, color='k', linestyle=':')"
   ]
  },
  {
   "cell_type": "code",
   "execution_count": 15,
   "metadata": {},
   "outputs": [
    {
     "data": {
      "text/plain": [
       "Snrv(\n",
       "  (activation): GELU(approximate=none)\n",
       "  (model): Sequential(\n",
       "    (0): Linear(in_features=10, out_features=100, bias=True)\n",
       "    (1): BatchNorm1d(100, eps=1e-05, momentum=0.1, affine=True, track_running_stats=True)\n",
       "    (2): GELU(approximate=none)\n",
       "    (3): Linear(in_features=100, out_features=100, bias=True)\n",
       "    (4): BatchNorm1d(100, eps=1e-05, momentum=0.1, affine=True, track_running_stats=True)\n",
       "    (5): GELU(approximate=none)\n",
       "    (6): Linear(in_features=100, out_features=3, bias=True)\n",
       "  )\n",
       ")"
      ]
     },
     "execution_count": 15,
     "metadata": {},
     "output_type": "execute_result"
    }
   ],
   "source": [
    "model_snrv.eval()"
   ]
  },
  {
   "cell_type": "code",
   "execution_count": 16,
   "metadata": {},
   "outputs": [],
   "source": [
    "evecs = model_snrv.transform(torch.cat(coords_torch)).cpu().detach().numpy()"
   ]
  },
  {
   "cell_type": "code",
   "execution_count": 17,
   "metadata": {},
   "outputs": [],
   "source": [
    "import deeptime as dt\n",
    "tica = dt.decomposition.TICA(lagtime = 5, dim=2)\n",
    "TICs = tica.fit_transform([a.numpy() for a in coords_torch]).reshape(-1, 2)"
   ]
  },
  {
   "cell_type": "code",
   "execution_count": 18,
   "metadata": {},
   "outputs": [
    {
     "data": {
      "image/png": "[encoded data removed]",
      "text/plain": [
       "<Figure size 1500x700 with 4 Axes>"
      ]
     },
     "metadata": {},
     "output_type": "display_data"
    }
   ],
   "source": [
    "fig, axes = plt.subplots(1, 2, figsize = (15, 7))\n",
    "axes = axes.flatten()\n",
    "\n",
    "for e in range(1, evecs.shape[1]):\n",
    "    evec = evecs[:, e]\n",
    "    ax = axes[e-1]\n",
    "    \n",
    "    im = ax.scatter(TICs[:,0], TICs[:,1], c=evec, s=10, cmap='coolwarm')\n",
    "    ax.set_xlabel('$TIC_0$', fontsize=18)\n",
    "    ax.set_ylabel('$TIC_1$', fontsize=18)\n",
    "    cbar = plt.colorbar(im, ax=ax)\n",
    "    cbar.set_label(f'EV$_{e}$', size=18)\n",
    "\n",
    "plt.tight_layout()"
   ]
  },
  {
   "cell_type": "code",
   "execution_count": 19,
   "metadata": {},
   "outputs": [
    {
     "data": {
      "text/plain": [
       "(torch.Size([5001, 2]), 25)"
      ]
     },
     "execution_count": 19,
     "metadata": {},
     "output_type": "execute_result"
    }
   ],
   "source": [
    "CVs = [model_snrv.transform(x).cpu().detach()[:, 1:] for x in coords_torch]\n",
    "CVs[0].shape, len(CVs)"
   ]
  },
  {
   "cell_type": "markdown",
   "metadata": {},
   "source": [
    "# MDN propagator"
   ]
  },
  {
   "cell_type": "code",
   "execution_count": 20,
   "metadata": {},
   "outputs": [],
   "source": [
    "model_mdn = Propagator(dim = CVs[0].size(1))"
   ]
  },
  {
   "cell_type": "code",
   "execution_count": 21,
   "metadata": {},
   "outputs": [
    {
     "name": "stderr",
     "output_type": "stream",
     "text": [
      "/project/andrewferguson/Kirill/env_lss/lib/python3.8/site-packages/lightning_lite/plugins/environments/slurm.py:167: PossibleUserWarning: The `srun` command is available on your system but is not used. HINT: If your intention is to run Lightning on SLURM, prepend your python command with `srun` like so: srun python /project/andrewferguson/Kirill/env_lss/lib/python3.8 ...\n",
      "  rank_zero_warn(\n",
      "GPU available: True (cuda), used: True\n",
      "TPU available: False, using: 0 TPU cores\n",
      "IPU available: False, using: 0 IPUs\n",
      "HPU available: False, using: 0 HPUs\n",
      "LOCAL_RANK: 0 - CUDA_VISIBLE_DEVICES: [0]\n",
      "\n",
      "  | Name    | Type                  | Params\n",
      "--------------------------------------------------\n",
      "0 | mdn     | MixtureDensityNetwork | 33.0 K\n",
      "1 | _scaler | MinMaxScaler          | 0     \n",
      "--------------------------------------------------\n",
      "33.0 K    Trainable params\n",
      "0         Non-trainable params\n",
      "33.0 K    Total params\n",
      "0.132     Total estimated model params size (MB)\n",
      "/project/andrewferguson/Kirill/env_lss/lib/python3.8/site-packages/pytorch_lightning/trainer/connectors/data_connector.py:224: PossibleUserWarning: The dataloader, train_dataloader, does not have many workers which may be a bottleneck. Consider increasing the value of the `num_workers` argument` (try 48 which is the number of cpus on this machine) in the `DataLoader` init to improve performance.\n",
      "  rank_zero_warn(\n"
     ]
    },
    {
     "data": {
      "application/vnd.jupyter.widget-view+json": {
       "model_id": "d48cf2391d084ac5b992096a5e04b6c1",
       "version_major": 2,
       "version_minor": 0
      },
      "text/plain": [
       "Training: 0it [00:00, ?it/s]"
      ]
     },
     "metadata": {},
     "output_type": "display_data"
    },
    {
     "name": "stderr",
     "output_type": "stream",
     "text": [
      "`Trainer.fit` stopped: `max_epochs=25` reached.\n"
     ]
    },
    {
     "data": {
      "text/plain": [
       "Propagator(\n",
       "  (mdn): MixtureDensityNetwork(\n",
       "    (network): MLP(\n",
       "      (mlp): Sequential(\n",
       "        (0): Linear(in_features=2, out_features=128, bias=True)\n",
       "        (1): SiLU()\n",
       "        (2): Linear(in_features=128, out_features=128, bias=True)\n",
       "        (3): SiLU()\n",
       "        (4): Linear(in_features=128, out_features=125, bias=True)\n",
       "      )\n",
       "    )\n",
       "  )\n",
       "  (_scaler): MinMaxScaler()\n",
       ")"
      ]
     },
     "execution_count": 21,
     "metadata": {},
     "output_type": "execute_result"
    }
   ],
   "source": [
    "model_mdn.fit(CVs, lag = 10, max_epochs=25)"
   ]
  },
  {
   "cell_type": "code",
   "execution_count": 22,
   "metadata": {},
   "outputs": [
    {
     "data": {
      "application/vnd.jupyter.widget-view+json": {
       "model_id": "51796f68937342f3a84a12bd73a695cb",
       "version_major": 2,
       "version_minor": 0
      },
      "text/plain": [
       "  0%|          | 0/10000 [00:00<?, ?it/s]"
      ]
     },
     "metadata": {},
     "output_type": "display_data"
    }
   ],
   "source": [
    "n_steps = int(1E4)\n",
    "x = CVs[0][0][None]\n",
    "synthetic_traj_CVs = model_mdn.gen_synthetic_traj(x, n_steps)"
   ]
  },
  {
   "cell_type": "markdown",
   "metadata": {},
   "source": [
    "# DDPM Decoder"
   ]
  },
  {
   "cell_type": "code",
   "execution_count": 23,
   "metadata": {},
   "outputs": [],
   "source": [
    "xyz = list()\n",
    "for trj in trjs:\n",
    "    \n",
    "    t_backbone = trj.atom_slice(trj.top.select('backbone')).center_coordinates()\n",
    "    \n",
    "    n = trj.xyz.shape[0]\n",
    "\n",
    "    xyz.append(torch.tensor(t_backbone.xyz.reshape(n, -1)).float())"
   ]
  },
  {
   "cell_type": "code",
   "execution_count": 24,
   "metadata": {},
   "outputs": [],
   "source": [
    "model_ddpm = DDPM(xyz[0].shape[1], CVs[0].shape[1])"
   ]
  },
  {
   "cell_type": "code",
   "execution_count": 25,
   "metadata": {},
   "outputs": [
    {
     "name": "stderr",
     "output_type": "stream",
     "text": [
      "GPU available: True (cuda), used: True\n",
      "TPU available: False, using: 0 TPU cores\n",
      "IPU available: False, using: 0 IPUs\n",
      "HPU available: False, using: 0 HPUs\n",
      "LOCAL_RANK: 0 - CUDA_VISIBLE_DEVICES: [0]\n",
      "\n",
      "  | Name              | Type              | Params\n",
      "--------------------------------------------------------\n",
      "0 | model             | GaussianDiffusion | 4.0 M \n",
      "1 | ema_model         | GaussianDiffusion | 4.0 M \n",
      "2 | _feature_scaler   | MinMaxScaler      | 0     \n",
      "3 | _condition_scaler | MinMaxScaler      | 0     \n",
      "--------------------------------------------------------\n",
      "7.9 M     Trainable params\n",
      "0         Non-trainable params\n",
      "7.9 M     Total params\n",
      "31.749    Total estimated model params size (MB)\n"
     ]
    },
    {
     "data": {
      "application/vnd.jupyter.widget-view+json": {
       "model_id": "d98abbec102945789fa000b4dc84c959",
       "version_major": 2,
       "version_minor": 0
      },
      "text/plain": [
       "Training: 0it [00:00, ?it/s]"
      ]
     },
     "metadata": {},
     "output_type": "display_data"
    },
    {
     "name": "stderr",
     "output_type": "stream",
     "text": [
      "`Trainer.fit` stopped: `max_epochs=25` reached.\n"
     ]
    },
    {
     "data": {
      "text/plain": [
       "DDPM(\n",
       "  (model): GaussianDiffusion(\n",
       "    (denoise_fn): Unet1D(\n",
       "      (init_conv): Conv1d(1, 32, kernel_size=(7,), stride=(1,), padding=(3,))\n",
       "      (time_mlp): Sequential(\n",
       "        (0): SinusoidalPosEmb()\n",
       "        (1): Linear(in_features=32, out_features=128, bias=True)\n",
       "        (2): GELU(approximate=none)\n",
       "        (3): Linear(in_features=128, out_features=128, bias=True)\n",
       "      )\n",
       "      (downs): ModuleList(\n",
       "        (0): ModuleList(\n",
       "          (0): ResnetBlock(\n",
       "            (mlp): Sequential(\n",
       "              (0): SiLU()\n",
       "              (1): Linear(in_features=128, out_features=64, bias=True)\n",
       "            )\n",
       "            (block1): Block(\n",
       "              (proj): WeightStandardizedConv2d(32, 32, kernel_size=(3,), stride=(1,), padding=(1,))\n",
       "              (norm): GroupNorm(8, 32, eps=1e-05, affine=True)\n",
       "              (act): SiLU()\n",
       "            )\n",
       "            (block2): Block(\n",
       "              (proj): WeightStandardizedConv2d(32, 32, kernel_size=(3,), stride=(1,), padding=(1,))\n",
       "              (norm): GroupNorm(8, 32, eps=1e-05, affine=True)\n",
       "              (act): SiLU()\n",
       "            )\n",
       "            (res_conv): Identity()\n",
       "          )\n",
       "          (1): ResnetBlock(\n",
       "            (mlp): Sequential(\n",
       "              (0): SiLU()\n",
       "              (1): Linear(in_features=128, out_features=64, bias=True)\n",
       "            )\n",
       "            (block1): Block(\n",
       "              (proj): WeightStandardizedConv2d(32, 32, kernel_size=(3,), stride=(1,), padding=(1,))\n",
       "              (norm): GroupNorm(8, 32, eps=1e-05, affine=True)\n",
       "              (act): SiLU()\n",
       "            )\n",
       "            (block2): Block(\n",
       "              (proj): WeightStandardizedConv2d(32, 32, kernel_size=(3,), stride=(1,), padding=(1,))\n",
       "              (norm): GroupNorm(8, 32, eps=1e-05, affine=True)\n",
       "              (act): SiLU()\n",
       "            )\n",
       "            (res_conv): Identity()\n",
       "          )\n",
       "          (2): Residual(\n",
       "            (fn): PreNorm(\n",
       "              (fn): LinearAttention(\n",
       "                (to_qkv): Conv1d(32, 384, kernel_size=(1,), stride=(1,), bias=False)\n",
       "                (to_out): Sequential(\n",
       "                  (0): Conv1d(128, 32, kernel_size=(1,), stride=(1,))\n",
       "                  (1): LayerNorm()\n",
       "                )\n",
       "              )\n",
       "              (norm): LayerNorm()\n",
       "            )\n",
       "          )\n",
       "          (3): Conv1d(32, 32, kernel_size=(3,), stride=(2,), padding=(1,))\n",
       "        )\n",
       "        (1): ModuleList(\n",
       "          (0): ResnetBlock(\n",
       "            (mlp): Sequential(\n",
       "              (0): SiLU()\n",
       "              (1): Linear(in_features=128, out_features=64, bias=True)\n",
       "            )\n",
       "            (block1): Block(\n",
       "              (proj): WeightStandardizedConv2d(32, 32, kernel_size=(3,), stride=(1,), padding=(1,))\n",
       "              (norm): GroupNorm(8, 32, eps=1e-05, affine=True)\n",
       "              (act): SiLU()\n",
       "            )\n",
       "            (block2): Block(\n",
       "              (proj): WeightStandardizedConv2d(32, 32, kernel_size=(3,), stride=(1,), padding=(1,))\n",
       "              (norm): GroupNorm(8, 32, eps=1e-05, affine=True)\n",
       "              (act): SiLU()\n",
       "            )\n",
       "            (res_conv): Identity()\n",
       "          )\n",
       "          (1): ResnetBlock(\n",
       "            (mlp): Sequential(\n",
       "              (0): SiLU()\n",
       "              (1): Linear(in_features=128, out_features=64, bias=True)\n",
       "            )\n",
       "            (block1): Block(\n",
       "              (proj): WeightStandardizedConv2d(32, 32, kernel_size=(3,), stride=(1,), padding=(1,))\n",
       "              (norm): GroupNorm(8, 32, eps=1e-05, affine=True)\n",
       "              (act): SiLU()\n",
       "            )\n",
       "            (block2): Block(\n",
       "              (proj): WeightStandardizedConv2d(32, 32, kernel_size=(3,), stride=(1,), padding=(1,))\n",
       "              (norm): GroupNorm(8, 32, eps=1e-05, affine=True)\n",
       "              (act): SiLU()\n",
       "            )\n",
       "            (res_conv): Identity()\n",
       "          )\n",
       "          (2): Residual(\n",
       "            (fn): PreNorm(\n",
       "              (fn): LinearAttention(\n",
       "                (to_qkv): Conv1d(32, 384, kernel_size=(1,), stride=(1,), bias=False)\n",
       "                (to_out): Sequential(\n",
       "                  (0): Conv1d(128, 32, kernel_size=(1,), stride=(1,))\n",
       "                  (1): LayerNorm()\n",
       "                )\n",
       "              )\n",
       "              (norm): LayerNorm()\n",
       "            )\n",
       "          )\n",
       "          (3): Conv1d(32, 64, kernel_size=(3,), stride=(2,), padding=(1,))\n",
       "        )\n",
       "        (2): ModuleList(\n",
       "          (0): ResnetBlock(\n",
       "            (mlp): Sequential(\n",
       "              (0): SiLU()\n",
       "              (1): Linear(in_features=128, out_features=128, bias=True)\n",
       "            )\n",
       "            (block1): Block(\n",
       "              (proj): WeightStandardizedConv2d(64, 64, kernel_size=(3,), stride=(1,), padding=(1,))\n",
       "              (norm): GroupNorm(8, 64, eps=1e-05, affine=True)\n",
       "              (act): SiLU()\n",
       "            )\n",
       "            (block2): Block(\n",
       "              (proj): WeightStandardizedConv2d(64, 64, kernel_size=(3,), stride=(1,), padding=(1,))\n",
       "              (norm): GroupNorm(8, 64, eps=1e-05, affine=True)\n",
       "              (act): SiLU()\n",
       "            )\n",
       "            (res_conv): Identity()\n",
       "          )\n",
       "          (1): ResnetBlock(\n",
       "            (mlp): Sequential(\n",
       "              (0): SiLU()\n",
       "              (1): Linear(in_features=128, out_features=128, bias=True)\n",
       "            )\n",
       "            (block1): Block(\n",
       "              (proj): WeightStandardizedConv2d(64, 64, kernel_size=(3,), stride=(1,), padding=(1,))\n",
       "              (norm): GroupNorm(8, 64, eps=1e-05, affine=True)\n",
       "              (act): SiLU()\n",
       "            )\n",
       "            (block2): Block(\n",
       "              (proj): WeightStandardizedConv2d(64, 64, kernel_size=(3,), stride=(1,), padding=(1,))\n",
       "              (norm): GroupNorm(8, 64, eps=1e-05, affine=True)\n",
       "              (act): SiLU()\n",
       "            )\n",
       "            (res_conv): Identity()\n",
       "          )\n",
       "          (2): Residual(\n",
       "            (fn): PreNorm(\n",
       "              (fn): LinearAttention(\n",
       "                (to_qkv): Conv1d(64, 384, kernel_size=(1,), stride=(1,), bias=False)\n",
       "                (to_out): Sequential(\n",
       "                  (0): Conv1d(128, 64, kernel_size=(1,), stride=(1,))\n",
       "                  (1): LayerNorm()\n",
       "                )\n",
       "              )\n",
       "              (norm): LayerNorm()\n",
       "            )\n",
       "          )\n",
       "          (3): Conv1d(64, 128, kernel_size=(3,), stride=(2,), padding=(1,))\n",
       "        )\n",
       "        (3): ModuleList(\n",
       "          (0): ResnetBlock(\n",
       "            (mlp): Sequential(\n",
       "              (0): SiLU()\n",
       "              (1): Linear(in_features=128, out_features=256, bias=True)\n",
       "            )\n",
       "            (block1): Block(\n",
       "              (proj): WeightStandardizedConv2d(128, 128, kernel_size=(3,), stride=(1,), padding=(1,))\n",
       "              (norm): GroupNorm(8, 128, eps=1e-05, affine=True)\n",
       "              (act): SiLU()\n",
       "            )\n",
       "            (block2): Block(\n",
       "              (proj): WeightStandardizedConv2d(128, 128, kernel_size=(3,), stride=(1,), padding=(1,))\n",
       "              (norm): GroupNorm(8, 128, eps=1e-05, affine=True)\n",
       "              (act): SiLU()\n",
       "            )\n",
       "            (res_conv): Identity()\n",
       "          )\n",
       "          (1): ResnetBlock(\n",
       "            (mlp): Sequential(\n",
       "              (0): SiLU()\n",
       "              (1): Linear(in_features=128, out_features=256, bias=True)\n",
       "            )\n",
       "            (block1): Block(\n",
       "              (proj): WeightStandardizedConv2d(128, 128, kernel_size=(3,), stride=(1,), padding=(1,))\n",
       "              (norm): GroupNorm(8, 128, eps=1e-05, affine=True)\n",
       "              (act): SiLU()\n",
       "            )\n",
       "            (block2): Block(\n",
       "              (proj): WeightStandardizedConv2d(128, 128, kernel_size=(3,), stride=(1,), padding=(1,))\n",
       "              (norm): GroupNorm(8, 128, eps=1e-05, affine=True)\n",
       "              (act): SiLU()\n",
       "            )\n",
       "            (res_conv): Identity()\n",
       "          )\n",
       "          (2): Residual(\n",
       "            (fn): PreNorm(\n",
       "              (fn): LinearAttention(\n",
       "                (to_qkv): Conv1d(128, 384, kernel_size=(1,), stride=(1,), bias=False)\n",
       "                (to_out): Sequential(\n",
       "                  (0): Conv1d(128, 128, kernel_size=(1,), stride=(1,))\n",
       "                  (1): LayerNorm()\n",
       "                )\n",
       "              )\n",
       "              (norm): LayerNorm()\n",
       "            )\n",
       "          )\n",
       "          (3): Conv1d(128, 256, kernel_size=(3,), stride=(1,), padding=(1,))\n",
       "        )\n",
       "      )\n",
       "      (ups): ModuleList(\n",
       "        (0): ModuleList(\n",
       "          (0): ResnetBlock(\n",
       "            (mlp): Sequential(\n",
       "              (0): SiLU()\n",
       "              (1): Linear(in_features=128, out_features=512, bias=True)\n",
       "            )\n",
       "            (block1): Block(\n",
       "              (proj): WeightStandardizedConv2d(384, 256, kernel_size=(3,), stride=(1,), padding=(1,))\n",
       "              (norm): GroupNorm(8, 256, eps=1e-05, affine=True)\n",
       "              (act): SiLU()\n",
       "            )\n",
       "            (block2): Block(\n",
       "              (proj): WeightStandardizedConv2d(256, 256, kernel_size=(3,), stride=(1,), padding=(1,))\n",
       "              (norm): GroupNorm(8, 256, eps=1e-05, affine=True)\n",
       "              (act): SiLU()\n",
       "            )\n",
       "            (res_conv): Conv1d(384, 256, kernel_size=(1,), stride=(1,))\n",
       "          )\n",
       "          (1): ResnetBlock(\n",
       "            (mlp): Sequential(\n",
       "              (0): SiLU()\n",
       "              (1): Linear(in_features=128, out_features=512, bias=True)\n",
       "            )\n",
       "            (block1): Block(\n",
       "              (proj): WeightStandardizedConv2d(384, 256, kernel_size=(3,), stride=(1,), padding=(1,))\n",
       "              (norm): GroupNorm(8, 256, eps=1e-05, affine=True)\n",
       "              (act): SiLU()\n",
       "            )\n",
       "            (block2): Block(\n",
       "              (proj): WeightStandardizedConv2d(256, 256, kernel_size=(3,), stride=(1,), padding=(1,))\n",
       "              (norm): GroupNorm(8, 256, eps=1e-05, affine=True)\n",
       "              (act): SiLU()\n",
       "            )\n",
       "            (res_conv): Conv1d(384, 256, kernel_size=(1,), stride=(1,))\n",
       "          )\n",
       "          (2): Residual(\n",
       "            (fn): PreNorm(\n",
       "              (fn): LinearAttention(\n",
       "                (to_qkv): Conv1d(256, 384, kernel_size=(1,), stride=(1,), bias=False)\n",
       "                (to_out): Sequential(\n",
       "                  (0): Conv1d(128, 256, kernel_size=(1,), stride=(1,))\n",
       "                  (1): LayerNorm()\n",
       "                )\n",
       "              )\n",
       "              (norm): LayerNorm()\n",
       "            )\n",
       "          )\n",
       "          (3): Sequential(\n",
       "            (0): Upsample(scale_factor=2.0, mode=nearest)\n",
       "            (1): Conv1d(256, 128, kernel_size=(3,), stride=(1,), padding=(1,))\n",
       "          )\n",
       "        )\n",
       "        (1): ModuleList(\n",
       "          (0): ResnetBlock(\n",
       "            (mlp): Sequential(\n",
       "              (0): SiLU()\n",
       "              (1): Linear(in_features=128, out_features=256, bias=True)\n",
       "            )\n",
       "            (block1): Block(\n",
       "              (proj): WeightStandardizedConv2d(192, 128, kernel_size=(3,), stride=(1,), padding=(1,))\n",
       "              (norm): GroupNorm(8, 128, eps=1e-05, affine=True)\n",
       "              (act): SiLU()\n",
       "            )\n",
       "            (block2): Block(\n",
       "              (proj): WeightStandardizedConv2d(128, 128, kernel_size=(3,), stride=(1,), padding=(1,))\n",
       "              (norm): GroupNorm(8, 128, eps=1e-05, affine=True)\n",
       "              (act): SiLU()\n",
       "            )\n",
       "            (res_conv): Conv1d(192, 128, kernel_size=(1,), stride=(1,))\n",
       "          )\n",
       "          (1): ResnetBlock(\n",
       "            (mlp): Sequential(\n",
       "              (0): SiLU()\n",
       "              (1): Linear(in_features=128, out_features=256, bias=True)\n",
       "            )\n",
       "            (block1): Block(\n",
       "              (proj): WeightStandardizedConv2d(192, 128, kernel_size=(3,), stride=(1,), padding=(1,))\n",
       "              (norm): GroupNorm(8, 128, eps=1e-05, affine=True)\n",
       "              (act): SiLU()\n",
       "            )\n",
       "            (block2): Block(\n",
       "              (proj): WeightStandardizedConv2d(128, 128, kernel_size=(3,), stride=(1,), padding=(1,))\n",
       "              (norm): GroupNorm(8, 128, eps=1e-05, affine=True)\n",
       "              (act): SiLU()\n",
       "            )\n",
       "            (res_conv): Conv1d(192, 128, kernel_size=(1,), stride=(1,))\n",
       "          )\n",
       "          (2): Residual(\n",
       "            (fn): PreNorm(\n",
       "              (fn): LinearAttention(\n",
       "                (to_qkv): Conv1d(128, 384, kernel_size=(1,), stride=(1,), bias=False)\n",
       "                (to_out): Sequential(\n",
       "                  (0): Conv1d(128, 128, kernel_size=(1,), stride=(1,))\n",
       "                  (1): LayerNorm()\n",
       "                )\n",
       "              )\n",
       "              (norm): LayerNorm()\n",
       "            )\n",
       "          )\n",
       "          (3): Sequential(\n",
       "            (0): Upsample(scale_factor=2.0, mode=nearest)\n",
       "            (1): Conv1d(128, 64, kernel_size=(3,), stride=(1,), padding=(1,))\n",
       "          )\n",
       "        )\n",
       "        (2): ModuleList(\n",
       "          (0): ResnetBlock(\n",
       "            (mlp): Sequential(\n",
       "              (0): SiLU()\n",
       "              (1): Linear(in_features=128, out_features=128, bias=True)\n",
       "            )\n",
       "            (block1): Block(\n",
       "              (proj): WeightStandardizedConv2d(96, 64, kernel_size=(3,), stride=(1,), padding=(1,))\n",
       "              (norm): GroupNorm(8, 64, eps=1e-05, affine=True)\n",
       "              (act): SiLU()\n",
       "            )\n",
       "            (block2): Block(\n",
       "              (proj): WeightStandardizedConv2d(64, 64, kernel_size=(3,), stride=(1,), padding=(1,))\n",
       "              (norm): GroupNorm(8, 64, eps=1e-05, affine=True)\n",
       "              (act): SiLU()\n",
       "            )\n",
       "            (res_conv): Conv1d(96, 64, kernel_size=(1,), stride=(1,))\n",
       "          )\n",
       "          (1): ResnetBlock(\n",
       "            (mlp): Sequential(\n",
       "              (0): SiLU()\n",
       "              (1): Linear(in_features=128, out_features=128, bias=True)\n",
       "            )\n",
       "            (block1): Block(\n",
       "              (proj): WeightStandardizedConv2d(96, 64, kernel_size=(3,), stride=(1,), padding=(1,))\n",
       "              (norm): GroupNorm(8, 64, eps=1e-05, affine=True)\n",
       "              (act): SiLU()\n",
       "            )\n",
       "            (block2): Block(\n",
       "              (proj): WeightStandardizedConv2d(64, 64, kernel_size=(3,), stride=(1,), padding=(1,))\n",
       "              (norm): GroupNorm(8, 64, eps=1e-05, affine=True)\n",
       "              (act): SiLU()\n",
       "            )\n",
       "            (res_conv): Conv1d(96, 64, kernel_size=(1,), stride=(1,))\n",
       "          )\n",
       "          (2): Residual(\n",
       "            (fn): PreNorm(\n",
       "              (fn): LinearAttention(\n",
       "                (to_qkv): Conv1d(64, 384, kernel_size=(1,), stride=(1,), bias=False)\n",
       "                (to_out): Sequential(\n",
       "                  (0): Conv1d(128, 64, kernel_size=(1,), stride=(1,))\n",
       "                  (1): LayerNorm()\n",
       "                )\n",
       "              )\n",
       "              (norm): LayerNorm()\n",
       "            )\n",
       "          )\n",
       "          (3): Sequential(\n",
       "            (0): Upsample(scale_factor=2.0, mode=nearest)\n",
       "            (1): Conv1d(64, 32, kernel_size=(3,), stride=(1,), padding=(1,))\n",
       "          )\n",
       "        )\n",
       "        (3): ModuleList(\n",
       "          (0): ResnetBlock(\n",
       "            (mlp): Sequential(\n",
       "              (0): SiLU()\n",
       "              (1): Linear(in_features=128, out_features=64, bias=True)\n",
       "            )\n",
       "            (block1): Block(\n",
       "              (proj): WeightStandardizedConv2d(64, 32, kernel_size=(3,), stride=(1,), padding=(1,))\n",
       "              (norm): GroupNorm(8, 32, eps=1e-05, affine=True)\n",
       "              (act): SiLU()\n",
       "            )\n",
       "            (block2): Block(\n",
       "              (proj): WeightStandardizedConv2d(32, 32, kernel_size=(3,), stride=(1,), padding=(1,))\n",
       "              (norm): GroupNorm(8, 32, eps=1e-05, affine=True)\n",
       "              (act): SiLU()\n",
       "            )\n",
       "            (res_conv): Conv1d(64, 32, kernel_size=(1,), stride=(1,))\n",
       "          )\n",
       "          (1): ResnetBlock(\n",
       "            (mlp): Sequential(\n",
       "              (0): SiLU()\n",
       "              (1): Linear(in_features=128, out_features=64, bias=True)\n",
       "            )\n",
       "            (block1): Block(\n",
       "              (proj): WeightStandardizedConv2d(64, 32, kernel_size=(3,), stride=(1,), padding=(1,))\n",
       "              (norm): GroupNorm(8, 32, eps=1e-05, affine=True)\n",
       "              (act): SiLU()\n",
       "            )\n",
       "            (block2): Block(\n",
       "              (proj): WeightStandardizedConv2d(32, 32, kernel_size=(3,), stride=(1,), padding=(1,))\n",
       "              (norm): GroupNorm(8, 32, eps=1e-05, affine=True)\n",
       "              (act): SiLU()\n",
       "            )\n",
       "            (res_conv): Conv1d(64, 32, kernel_size=(1,), stride=(1,))\n",
       "          )\n",
       "          (2): Residual(\n",
       "            (fn): PreNorm(\n",
       "              (fn): LinearAttention(\n",
       "                (to_qkv): Conv1d(32, 384, kernel_size=(1,), stride=(1,), bias=False)\n",
       "                (to_out): Sequential(\n",
       "                  (0): Conv1d(128, 32, kernel_size=(1,), stride=(1,))\n",
       "                  (1): LayerNorm()\n",
       "                )\n",
       "              )\n",
       "              (norm): LayerNorm()\n",
       "            )\n",
       "          )\n",
       "          (3): Conv1d(32, 32, kernel_size=(3,), stride=(1,), padding=(1,))\n",
       "        )\n",
       "      )\n",
       "      (mid_block1): ResnetBlock(\n",
       "        (mlp): Sequential(\n",
       "          (0): SiLU()\n",
       "          (1): Linear(in_features=128, out_features=512, bias=True)\n",
       "        )\n",
       "        (block1): Block(\n",
       "          (proj): WeightStandardizedConv2d(256, 256, kernel_size=(3,), stride=(1,), padding=(1,))\n",
       "          (norm): GroupNorm(8, 256, eps=1e-05, affine=True)\n",
       "          (act): SiLU()\n",
       "        )\n",
       "        (block2): Block(\n",
       "          (proj): WeightStandardizedConv2d(256, 256, kernel_size=(3,), stride=(1,), padding=(1,))\n",
       "          (norm): GroupNorm(8, 256, eps=1e-05, affine=True)\n",
       "          (act): SiLU()\n",
       "        )\n",
       "        (res_conv): Identity()\n",
       "      )\n",
       "      (mid_attn): Residual(\n",
       "        (fn): PreNorm(\n",
       "          (fn): Attention(\n",
       "            (to_qkv): Conv1d(256, 384, kernel_size=(1,), stride=(1,), bias=False)\n",
       "            (to_out): Conv1d(128, 256, kernel_size=(1,), stride=(1,))\n",
       "          )\n",
       "          (norm): LayerNorm()\n",
       "        )\n",
       "      )\n",
       "      (mid_block2): ResnetBlock(\n",
       "        (mlp): Sequential(\n",
       "          (0): SiLU()\n",
       "          (1): Linear(in_features=128, out_features=512, bias=True)\n",
       "        )\n",
       "        (block1): Block(\n",
       "          (proj): WeightStandardizedConv2d(256, 256, kernel_size=(3,), stride=(1,), padding=(1,))\n",
       "          (norm): GroupNorm(8, 256, eps=1e-05, affine=True)\n",
       "          (act): SiLU()\n",
       "        )\n",
       "        (block2): Block(\n",
       "          (proj): WeightStandardizedConv2d(256, 256, kernel_size=(3,), stride=(1,), padding=(1,))\n",
       "          (norm): GroupNorm(8, 256, eps=1e-05, affine=True)\n",
       "          (act): SiLU()\n",
       "        )\n",
       "        (res_conv): Identity()\n",
       "      )\n",
       "      (final_res_block): ResnetBlock(\n",
       "        (mlp): Sequential(\n",
       "          (0): SiLU()\n",
       "          (1): Linear(in_features=128, out_features=64, bias=True)\n",
       "        )\n",
       "        (block1): Block(\n",
       "          (proj): WeightStandardizedConv2d(64, 32, kernel_size=(3,), stride=(1,), padding=(1,))\n",
       "          (norm): GroupNorm(8, 32, eps=1e-05, affine=True)\n",
       "          (act): SiLU()\n",
       "        )\n",
       "        (block2): Block(\n",
       "          (proj): WeightStandardizedConv2d(32, 32, kernel_size=(3,), stride=(1,), padding=(1,))\n",
       "          (norm): GroupNorm(8, 32, eps=1e-05, affine=True)\n",
       "          (act): SiLU()\n",
       "        )\n",
       "        (res_conv): Conv1d(64, 32, kernel_size=(1,), stride=(1,))\n",
       "      )\n",
       "      (final_conv): Conv1d(32, 1, kernel_size=(1,), stride=(1,))\n",
       "    )\n",
       "  )\n",
       "  (ema_model): GaussianDiffusion(\n",
       "    (denoise_fn): Unet1D(\n",
       "      (init_conv): Conv1d(1, 32, kernel_size=(7,), stride=(1,), padding=(3,))\n",
       "      (time_mlp): Sequential(\n",
       "        (0): SinusoidalPosEmb()\n",
       "        (1): Linear(in_features=32, out_features=128, bias=True)\n",
       "        (2): GELU(approximate=none)\n",
       "        (3): Linear(in_features=128, out_features=128, bias=True)\n",
       "      )\n",
       "      (downs): ModuleList(\n",
       "        (0): ModuleList(\n",
       "          (0): ResnetBlock(\n",
       "            (mlp): Sequential(\n",
       "              (0): SiLU()\n",
       "              (1): Linear(in_features=128, out_features=64, bias=True)\n",
       "            )\n",
       "            (block1): Block(\n",
       "              (proj): WeightStandardizedConv2d(32, 32, kernel_size=(3,), stride=(1,), padding=(1,))\n",
       "              (norm): GroupNorm(8, 32, eps=1e-05, affine=True)\n",
       "              (act): SiLU()\n",
       "            )\n",
       "            (block2): Block(\n",
       "              (proj): WeightStandardizedConv2d(32, 32, kernel_size=(3,), stride=(1,), padding=(1,))\n",
       "              (norm): GroupNorm(8, 32, eps=1e-05, affine=True)\n",
       "              (act): SiLU()\n",
       "            )\n",
       "            (res_conv): Identity()\n",
       "          )\n",
       "          (1): ResnetBlock(\n",
       "            (mlp): Sequential(\n",
       "              (0): SiLU()\n",
       "              (1): Linear(in_features=128, out_features=64, bias=True)\n",
       "            )\n",
       "            (block1): Block(\n",
       "              (proj): WeightStandardizedConv2d(32, 32, kernel_size=(3,), stride=(1,), padding=(1,))\n",
       "              (norm): GroupNorm(8, 32, eps=1e-05, affine=True)\n",
       "              (act): SiLU()\n",
       "            )\n",
       "            (block2): Block(\n",
       "              (proj): WeightStandardizedConv2d(32, 32, kernel_size=(3,), stride=(1,), padding=(1,))\n",
       "              (norm): GroupNorm(8, 32, eps=1e-05, affine=True)\n",
       "              (act): SiLU()\n",
       "            )\n",
       "            (res_conv): Identity()\n",
       "          )\n",
       "          (2): Residual(\n",
       "            (fn): PreNorm(\n",
       "              (fn): LinearAttention(\n",
       "                (to_qkv): Conv1d(32, 384, kernel_size=(1,), stride=(1,), bias=False)\n",
       "                (to_out): Sequential(\n",
       "                  (0): Conv1d(128, 32, kernel_size=(1,), stride=(1,))\n",
       "                  (1): LayerNorm()\n",
       "                )\n",
       "              )\n",
       "              (norm): LayerNorm()\n",
       "            )\n",
       "          )\n",
       "          (3): Conv1d(32, 32, kernel_size=(3,), stride=(2,), padding=(1,))\n",
       "        )\n",
       "        (1): ModuleList(\n",
       "          (0): ResnetBlock(\n",
       "            (mlp): Sequential(\n",
       "              (0): SiLU()\n",
       "              (1): Linear(in_features=128, out_features=64, bias=True)\n",
       "            )\n",
       "            (block1): Block(\n",
       "              (proj): WeightStandardizedConv2d(32, 32, kernel_size=(3,), stride=(1,), padding=(1,))\n",
       "              (norm): GroupNorm(8, 32, eps=1e-05, affine=True)\n",
       "              (act): SiLU()\n",
       "            )\n",
       "            (block2): Block(\n",
       "              (proj): WeightStandardizedConv2d(32, 32, kernel_size=(3,), stride=(1,), padding=(1,))\n",
       "              (norm): GroupNorm(8, 32, eps=1e-05, affine=True)\n",
       "              (act): SiLU()\n",
       "            )\n",
       "            (res_conv): Identity()\n",
       "          )\n",
       "          (1): ResnetBlock(\n",
       "            (mlp): Sequential(\n",
       "              (0): SiLU()\n",
       "              (1): Linear(in_features=128, out_features=64, bias=True)\n",
       "            )\n",
       "            (block1): Block(\n",
       "              (proj): WeightStandardizedConv2d(32, 32, kernel_size=(3,), stride=(1,), padding=(1,))\n",
       "              (norm): GroupNorm(8, 32, eps=1e-05, affine=True)\n",
       "              (act): SiLU()\n",
       "            )\n",
       "            (block2): Block(\n",
       "              (proj): WeightStandardizedConv2d(32, 32, kernel_size=(3,), stride=(1,), padding=(1,))\n",
       "              (norm): GroupNorm(8, 32, eps=1e-05, affine=True)\n",
       "              (act): SiLU()\n",
       "            )\n",
       "            (res_conv): Identity()\n",
       "          )\n",
       "          (2): Residual(\n",
       "            (fn): PreNorm(\n",
       "              (fn): LinearAttention(\n",
       "                (to_qkv): Conv1d(32, 384, kernel_size=(1,), stride=(1,), bias=False)\n",
       "                (to_out): Sequential(\n",
       "                  (0): Conv1d(128, 32, kernel_size=(1,), stride=(1,))\n",
       "                  (1): LayerNorm()\n",
       "                )\n",
       "              )\n",
       "              (norm): LayerNorm()\n",
       "            )\n",
       "          )\n",
       "          (3): Conv1d(32, 64, kernel_size=(3,), stride=(2,), padding=(1,))\n",
       "        )\n",
       "        (2): ModuleList(\n",
       "          (0): ResnetBlock(\n",
       "            (mlp): Sequential(\n",
       "              (0): SiLU()\n",
       "              (1): Linear(in_features=128, out_features=128, bias=True)\n",
       "            )\n",
       "            (block1): Block(\n",
       "              (proj): WeightStandardizedConv2d(64, 64, kernel_size=(3,), stride=(1,), padding=(1,))\n",
       "              (norm): GroupNorm(8, 64, eps=1e-05, affine=True)\n",
       "              (act): SiLU()\n",
       "            )\n",
       "            (block2): Block(\n",
       "              (proj): WeightStandardizedConv2d(64, 64, kernel_size=(3,), stride=(1,), padding=(1,))\n",
       "              (norm): GroupNorm(8, 64, eps=1e-05, affine=True)\n",
       "              (act): SiLU()\n",
       "            )\n",
       "            (res_conv): Identity()\n",
       "          )\n",
       "          (1): ResnetBlock(\n",
       "            (mlp): Sequential(\n",
       "              (0): SiLU()\n",
       "              (1): Linear(in_features=128, out_features=128, bias=True)\n",
       "            )\n",
       "            (block1): Block(\n",
       "              (proj): WeightStandardizedConv2d(64, 64, kernel_size=(3,), stride=(1,), padding=(1,))\n",
       "              (norm): GroupNorm(8, 64, eps=1e-05, affine=True)\n",
       "              (act): SiLU()\n",
       "            )\n",
       "            (block2): Block(\n",
       "              (proj): WeightStandardizedConv2d(64, 64, kernel_size=(3,), stride=(1,), padding=(1,))\n",
       "              (norm): GroupNorm(8, 64, eps=1e-05, affine=True)\n",
       "              (act): SiLU()\n",
       "            )\n",
       "            (res_conv): Identity()\n",
       "          )\n",
       "          (2): Residual(\n",
       "            (fn): PreNorm(\n",
       "              (fn): LinearAttention(\n",
       "                (to_qkv): Conv1d(64, 384, kernel_size=(1,), stride=(1,), bias=False)\n",
       "                (to_out): Sequential(\n",
       "                  (0): Conv1d(128, 64, kernel_size=(1,), stride=(1,))\n",
       "                  (1): LayerNorm()\n",
       "                )\n",
       "              )\n",
       "              (norm): LayerNorm()\n",
       "            )\n",
       "          )\n",
       "          (3): Conv1d(64, 128, kernel_size=(3,), stride=(2,), padding=(1,))\n",
       "        )\n",
       "        (3): ModuleList(\n",
       "          (0): ResnetBlock(\n",
       "            (mlp): Sequential(\n",
       "              (0): SiLU()\n",
       "              (1): Linear(in_features=128, out_features=256, bias=True)\n",
       "            )\n",
       "            (block1): Block(\n",
       "              (proj): WeightStandardizedConv2d(128, 128, kernel_size=(3,), stride=(1,), padding=(1,))\n",
       "              (norm): GroupNorm(8, 128, eps=1e-05, affine=True)\n",
       "              (act): SiLU()\n",
       "            )\n",
       "            (block2): Block(\n",
       "              (proj): WeightStandardizedConv2d(128, 128, kernel_size=(3,), stride=(1,), padding=(1,))\n",
       "              (norm): GroupNorm(8, 128, eps=1e-05, affine=True)\n",
       "              (act): SiLU()\n",
       "            )\n",
       "            (res_conv): Identity()\n",
       "          )\n",
       "          (1): ResnetBlock(\n",
       "            (mlp): Sequential(\n",
       "              (0): SiLU()\n",
       "              (1): Linear(in_features=128, out_features=256, bias=True)\n",
       "            )\n",
       "            (block1): Block(\n",
       "              (proj): WeightStandardizedConv2d(128, 128, kernel_size=(3,), stride=(1,), padding=(1,))\n",
       "              (norm): GroupNorm(8, 128, eps=1e-05, affine=True)\n",
       "              (act): SiLU()\n",
       "            )\n",
       "            (block2): Block(\n",
       "              (proj): WeightStandardizedConv2d(128, 128, kernel_size=(3,), stride=(1,), padding=(1,))\n",
       "              (norm): GroupNorm(8, 128, eps=1e-05, affine=True)\n",
       "              (act): SiLU()\n",
       "            )\n",
       "            (res_conv): Identity()\n",
       "          )\n",
       "          (2): Residual(\n",
       "            (fn): PreNorm(\n",
       "              (fn): LinearAttention(\n",
       "                (to_qkv): Conv1d(128, 384, kernel_size=(1,), stride=(1,), bias=False)\n",
       "                (to_out): Sequential(\n",
       "                  (0): Conv1d(128, 128, kernel_size=(1,), stride=(1,))\n",
       "                  (1): LayerNorm()\n",
       "                )\n",
       "              )\n",
       "              (norm): LayerNorm()\n",
       "            )\n",
       "          )\n",
       "          (3): Conv1d(128, 256, kernel_size=(3,), stride=(1,), padding=(1,))\n",
       "        )\n",
       "      )\n",
       "      (ups): ModuleList(\n",
       "        (0): ModuleList(\n",
       "          (0): ResnetBlock(\n",
       "            (mlp): Sequential(\n",
       "              (0): SiLU()\n",
       "              (1): Linear(in_features=128, out_features=512, bias=True)\n",
       "            )\n",
       "            (block1): Block(\n",
       "              (proj): WeightStandardizedConv2d(384, 256, kernel_size=(3,), stride=(1,), padding=(1,))\n",
       "              (norm): GroupNorm(8, 256, eps=1e-05, affine=True)\n",
       "              (act): SiLU()\n",
       "            )\n",
       "            (block2): Block(\n",
       "              (proj): WeightStandardizedConv2d(256, 256, kernel_size=(3,), stride=(1,), padding=(1,))\n",
       "              (norm): GroupNorm(8, 256, eps=1e-05, affine=True)\n",
       "              (act): SiLU()\n",
       "            )\n",
       "            (res_conv): Conv1d(384, 256, kernel_size=(1,), stride=(1,))\n",
       "          )\n",
       "          (1): ResnetBlock(\n",
       "            (mlp): Sequential(\n",
       "              (0): SiLU()\n",
       "              (1): Linear(in_features=128, out_features=512, bias=True)\n",
       "            )\n",
       "            (block1): Block(\n",
       "              (proj): WeightStandardizedConv2d(384, 256, kernel_size=(3,), stride=(1,), padding=(1,))\n",
       "              (norm): GroupNorm(8, 256, eps=1e-05, affine=True)\n",
       "              (act): SiLU()\n",
       "            )\n",
       "            (block2): Block(\n",
       "              (proj): WeightStandardizedConv2d(256, 256, kernel_size=(3,), stride=(1,), padding=(1,))\n",
       "              (norm): GroupNorm(8, 256, eps=1e-05, affine=True)\n",
       "              (act): SiLU()\n",
       "            )\n",
       "            (res_conv): Conv1d(384, 256, kernel_size=(1,), stride=(1,))\n",
       "          )\n",
       "          (2): Residual(\n",
       "            (fn): PreNorm(\n",
       "              (fn): LinearAttention(\n",
       "                (to_qkv): Conv1d(256, 384, kernel_size=(1,), stride=(1,), bias=False)\n",
       "                (to_out): Sequential(\n",
       "                  (0): Conv1d(128, 256, kernel_size=(1,), stride=(1,))\n",
       "                  (1): LayerNorm()\n",
       "                )\n",
       "              )\n",
       "              (norm): LayerNorm()\n",
       "            )\n",
       "          )\n",
       "          (3): Sequential(\n",
       "            (0): Upsample(scale_factor=2.0, mode=nearest)\n",
       "            (1): Conv1d(256, 128, kernel_size=(3,), stride=(1,), padding=(1,))\n",
       "          )\n",
       "        )\n",
       "        (1): ModuleList(\n",
       "          (0): ResnetBlock(\n",
       "            (mlp): Sequential(\n",
       "              (0): SiLU()\n",
       "              (1): Linear(in_features=128, out_features=256, bias=True)\n",
       "            )\n",
       "            (block1): Block(\n",
       "              (proj): WeightStandardizedConv2d(192, 128, kernel_size=(3,), stride=(1,), padding=(1,))\n",
       "              (norm): GroupNorm(8, 128, eps=1e-05, affine=True)\n",
       "              (act): SiLU()\n",
       "            )\n",
       "            (block2): Block(\n",
       "              (proj): WeightStandardizedConv2d(128, 128, kernel_size=(3,), stride=(1,), padding=(1,))\n",
       "              (norm): GroupNorm(8, 128, eps=1e-05, affine=True)\n",
       "              (act): SiLU()\n",
       "            )\n",
       "            (res_conv): Conv1d(192, 128, kernel_size=(1,), stride=(1,))\n",
       "          )\n",
       "          (1): ResnetBlock(\n",
       "            (mlp): Sequential(\n",
       "              (0): SiLU()\n",
       "              (1): Linear(in_features=128, out_features=256, bias=True)\n",
       "            )\n",
       "            (block1): Block(\n",
       "              (proj): WeightStandardizedConv2d(192, 128, kernel_size=(3,), stride=(1,), padding=(1,))\n",
       "              (norm): GroupNorm(8, 128, eps=1e-05, affine=True)\n",
       "              (act): SiLU()\n",
       "            )\n",
       "            (block2): Block(\n",
       "              (proj): WeightStandardizedConv2d(128, 128, kernel_size=(3,), stride=(1,), padding=(1,))\n",
       "              (norm): GroupNorm(8, 128, eps=1e-05, affine=True)\n",
       "              (act): SiLU()\n",
       "            )\n",
       "            (res_conv): Conv1d(192, 128, kernel_size=(1,), stride=(1,))\n",
       "          )\n",
       "          (2): Residual(\n",
       "            (fn): PreNorm(\n",
       "              (fn): LinearAttention(\n",
       "                (to_qkv): Conv1d(128, 384, kernel_size=(1,), stride=(1,), bias=False)\n",
       "                (to_out): Sequential(\n",
       "                  (0): Conv1d(128, 128, kernel_size=(1,), stride=(1,))\n",
       "                  (1): LayerNorm()\n",
       "                )\n",
       "              )\n",
       "              (norm): LayerNorm()\n",
       "            )\n",
       "          )\n",
       "          (3): Sequential(\n",
       "            (0): Upsample(scale_factor=2.0, mode=nearest)\n",
       "            (1): Conv1d(128, 64, kernel_size=(3,), stride=(1,), padding=(1,))\n",
       "          )\n",
       "        )\n",
       "        (2): ModuleList(\n",
       "          (0): ResnetBlock(\n",
       "            (mlp): Sequential(\n",
       "              (0): SiLU()\n",
       "              (1): Linear(in_features=128, out_features=128, bias=True)\n",
       "            )\n",
       "            (block1): Block(\n",
       "              (proj): WeightStandardizedConv2d(96, 64, kernel_size=(3,), stride=(1,), padding=(1,))\n",
       "              (norm): GroupNorm(8, 64, eps=1e-05, affine=True)\n",
       "              (act): SiLU()\n",
       "            )\n",
       "            (block2): Block(\n",
       "              (proj): WeightStandardizedConv2d(64, 64, kernel_size=(3,), stride=(1,), padding=(1,))\n",
       "              (norm): GroupNorm(8, 64, eps=1e-05, affine=True)\n",
       "              (act): SiLU()\n",
       "            )\n",
       "            (res_conv): Conv1d(96, 64, kernel_size=(1,), stride=(1,))\n",
       "          )\n",
       "          (1): ResnetBlock(\n",
       "            (mlp): Sequential(\n",
       "              (0): SiLU()\n",
       "              (1): Linear(in_features=128, out_features=128, bias=True)\n",
       "            )\n",
       "            (block1): Block(\n",
       "              (proj): WeightStandardizedConv2d(96, 64, kernel_size=(3,), stride=(1,), padding=(1,))\n",
       "              (norm): GroupNorm(8, 64, eps=1e-05, affine=True)\n",
       "              (act): SiLU()\n",
       "            )\n",
       "            (block2): Block(\n",
       "              (proj): WeightStandardizedConv2d(64, 64, kernel_size=(3,), stride=(1,), padding=(1,))\n",
       "              (norm): GroupNorm(8, 64, eps=1e-05, affine=True)\n",
       "              (act): SiLU()\n",
       "            )\n",
       "            (res_conv): Conv1d(96, 64, kernel_size=(1,), stride=(1,))\n",
       "          )\n",
       "          (2): Residual(\n",
       "            (fn): PreNorm(\n",
       "              (fn): LinearAttention(\n",
       "                (to_qkv): Conv1d(64, 384, kernel_size=(1,), stride=(1,), bias=False)\n",
       "                (to_out): Sequential(\n",
       "                  (0): Conv1d(128, 64, kernel_size=(1,), stride=(1,))\n",
       "                  (1): LayerNorm()\n",
       "                )\n",
       "              )\n",
       "              (norm): LayerNorm()\n",
       "            )\n",
       "          )\n",
       "          (3): Sequential(\n",
       "            (0): Upsample(scale_factor=2.0, mode=nearest)\n",
       "            (1): Conv1d(64, 32, kernel_size=(3,), stride=(1,), padding=(1,))\n",
       "          )\n",
       "        )\n",
       "        (3): ModuleList(\n",
       "          (0): ResnetBlock(\n",
       "            (mlp): Sequential(\n",
       "              (0): SiLU()\n",
       "              (1): Linear(in_features=128, out_features=64, bias=True)\n",
       "            )\n",
       "            (block1): Block(\n",
       "              (proj): WeightStandardizedConv2d(64, 32, kernel_size=(3,), stride=(1,), padding=(1,))\n",
       "              (norm): GroupNorm(8, 32, eps=1e-05, affine=True)\n",
       "              (act): SiLU()\n",
       "            )\n",
       "            (block2): Block(\n",
       "              (proj): WeightStandardizedConv2d(32, 32, kernel_size=(3,), stride=(1,), padding=(1,))\n",
       "              (norm): GroupNorm(8, 32, eps=1e-05, affine=True)\n",
       "              (act): SiLU()\n",
       "            )\n",
       "            (res_conv): Conv1d(64, 32, kernel_size=(1,), stride=(1,))\n",
       "          )\n",
       "          (1): ResnetBlock(\n",
       "            (mlp): Sequential(\n",
       "              (0): SiLU()\n",
       "              (1): Linear(in_features=128, out_features=64, bias=True)\n",
       "            )\n",
       "            (block1): Block(\n",
       "              (proj): WeightStandardizedConv2d(64, 32, kernel_size=(3,), stride=(1,), padding=(1,))\n",
       "              (norm): GroupNorm(8, 32, eps=1e-05, affine=True)\n",
       "              (act): SiLU()\n",
       "            )\n",
       "            (block2): Block(\n",
       "              (proj): WeightStandardizedConv2d(32, 32, kernel_size=(3,), stride=(1,), padding=(1,))\n",
       "              (norm): GroupNorm(8, 32, eps=1e-05, affine=True)\n",
       "              (act): SiLU()\n",
       "            )\n",
       "            (res_conv): Conv1d(64, 32, kernel_size=(1,), stride=(1,))\n",
       "          )\n",
       "          (2): Residual(\n",
       "            (fn): PreNorm(\n",
       "              (fn): LinearAttention(\n",
       "                (to_qkv): Conv1d(32, 384, kernel_size=(1,), stride=(1,), bias=False)\n",
       "                (to_out): Sequential(\n",
       "                  (0): Conv1d(128, 32, kernel_size=(1,), stride=(1,))\n",
       "                  (1): LayerNorm()\n",
       "                )\n",
       "              )\n",
       "              (norm): LayerNorm()\n",
       "            )\n",
       "          )\n",
       "          (3): Conv1d(32, 32, kernel_size=(3,), stride=(1,), padding=(1,))\n",
       "        )\n",
       "      )\n",
       "      (mid_block1): ResnetBlock(\n",
       "        (mlp): Sequential(\n",
       "          (0): SiLU()\n",
       "          (1): Linear(in_features=128, out_features=512, bias=True)\n",
       "        )\n",
       "        (block1): Block(\n",
       "          (proj): WeightStandardizedConv2d(256, 256, kernel_size=(3,), stride=(1,), padding=(1,))\n",
       "          (norm): GroupNorm(8, 256, eps=1e-05, affine=True)\n",
       "          (act): SiLU()\n",
       "        )\n",
       "        (block2): Block(\n",
       "          (proj): WeightStandardizedConv2d(256, 256, kernel_size=(3,), stride=(1,), padding=(1,))\n",
       "          (norm): GroupNorm(8, 256, eps=1e-05, affine=True)\n",
       "          (act): SiLU()\n",
       "        )\n",
       "        (res_conv): Identity()\n",
       "      )\n",
       "      (mid_attn): Residual(\n",
       "        (fn): PreNorm(\n",
       "          (fn): Attention(\n",
       "            (to_qkv): Conv1d(256, 384, kernel_size=(1,), stride=(1,), bias=False)\n",
       "            (to_out): Conv1d(128, 256, kernel_size=(1,), stride=(1,))\n",
       "          )\n",
       "          (norm): LayerNorm()\n",
       "        )\n",
       "      )\n",
       "      (mid_block2): ResnetBlock(\n",
       "        (mlp): Sequential(\n",
       "          (0): SiLU()\n",
       "          (1): Linear(in_features=128, out_features=512, bias=True)\n",
       "        )\n",
       "        (block1): Block(\n",
       "          (proj): WeightStandardizedConv2d(256, 256, kernel_size=(3,), stride=(1,), padding=(1,))\n",
       "          (norm): GroupNorm(8, 256, eps=1e-05, affine=True)\n",
       "          (act): SiLU()\n",
       "        )\n",
       "        (block2): Block(\n",
       "          (proj): WeightStandardizedConv2d(256, 256, kernel_size=(3,), stride=(1,), padding=(1,))\n",
       "          (norm): GroupNorm(8, 256, eps=1e-05, affine=True)\n",
       "          (act): SiLU()\n",
       "        )\n",
       "        (res_conv): Identity()\n",
       "      )\n",
       "      (final_res_block): ResnetBlock(\n",
       "        (mlp): Sequential(\n",
       "          (0): SiLU()\n",
       "          (1): Linear(in_features=128, out_features=64, bias=True)\n",
       "        )\n",
       "        (block1): Block(\n",
       "          (proj): WeightStandardizedConv2d(64, 32, kernel_size=(3,), stride=(1,), padding=(1,))\n",
       "          (norm): GroupNorm(8, 32, eps=1e-05, affine=True)\n",
       "          (act): SiLU()\n",
       "        )\n",
       "        (block2): Block(\n",
       "          (proj): WeightStandardizedConv2d(32, 32, kernel_size=(3,), stride=(1,), padding=(1,))\n",
       "          (norm): GroupNorm(8, 32, eps=1e-05, affine=True)\n",
       "          (act): SiLU()\n",
       "        )\n",
       "        (res_conv): Conv1d(64, 32, kernel_size=(1,), stride=(1,))\n",
       "      )\n",
       "      (final_conv): Conv1d(32, 1, kernel_size=(1,), stride=(1,))\n",
       "    )\n",
       "  )\n",
       "  (_feature_scaler): MinMaxScaler()\n",
       "  (_condition_scaler): MinMaxScaler()\n",
       ")"
      ]
     },
     "execution_count": 25,
     "metadata": {},
     "output_type": "execute_result"
    }
   ],
   "source": [
    "model_ddpm.fit(xyz, CVs, max_epochs=25)"
   ]
  },
  {
   "cell_type": "markdown",
   "metadata": {},
   "source": [
    "# Decode synthetic traj"
   ]
  },
  {
   "cell_type": "code",
   "execution_count": 26,
   "metadata": {},
   "outputs": [
    {
     "data": {
      "application/vnd.jupyter.widget-view+json": {
       "model_id": "ecb00b17577a4b4ba0e21ac55be304f1",
       "version_major": 2,
       "version_minor": 0
      },
      "text/plain": [
       "sampling loop time step:   0%|          | 0/1000 [00:00<?, ?it/s]"
      ]
     },
     "metadata": {},
     "output_type": "display_data"
    }
   ],
   "source": [
    "xyz_gen = model_ddpm.generate(synthetic_traj_CVs)"
   ]
  },
  {
   "cell_type": "code",
   "execution_count": 27,
   "metadata": {},
   "outputs": [],
   "source": [
    "xyz_gen = xyz_gen.reshape(xyz_gen.size(0), -1 , 3).numpy()\n",
    "fake_trj = md.Trajectory(xyz = xyz_gen, topology=t_backbone.top)"
   ]
  },
  {
   "cell_type": "markdown",
   "metadata": {},
   "source": [
    "# Visualize results"
   ]
  },
  {
   "cell_type": "code",
   "execution_count": 28,
   "metadata": {},
   "outputs": [
    {
     "data": {
      "application/vnd.jupyter.widget-view+json": {
       "model_id": "cda55424aad14feebbd77d7a1f8ed018",
       "version_major": 2,
       "version_minor": 0
      },
      "text/plain": []
     },
     "metadata": {},
     "output_type": "display_data"
    }
   ],
   "source": [
    "import nglview as nv"
   ]
  },
  {
   "cell_type": "code",
   "execution_count": 33,
   "metadata": {},
   "outputs": [
    {
     "data": {
      "application/vnd.jupyter.widget-view+json": {
       "model_id": "93c72cf9ecc04abd99434719f8ffdba1",
       "version_major": 2,
       "version_minor": 0
      },
      "text/plain": [
       "NGLWidget(max_frame=9999)"
      ]
     },
     "metadata": {},
     "output_type": "display_data"
    }
   ],
   "source": [
    "v = nv.show_mdtraj(fake_trj)\n",
    "v.clear_representations()\n",
    "v.add_representation('ball+stick')\n",
    "v"
   ]
  },
  {
   "cell_type": "code",
   "execution_count": 34,
   "metadata": {},
   "outputs": [],
   "source": [
    "fake_trj.save_pdb('WLALL_backbone_synthetic_traj.pdb')"
   ]
  },
  {
   "cell_type": "code",
   "execution_count": null,
   "metadata": {},
   "outputs": [],
   "source": []
  }
 ],
 "metadata": {
  "kernelspec": {
   "display_name": "Python [conda env:env_lss]",
   "language": "python",
   "name": "conda-env-env_lss-py"
  },
  "language_info": {
   "codemirror_mode": {
    "name": "ipython",
    "version": 3
   },
   "file_extension": ".py",
   "mimetype": "text/x-python",
   "name": "python",
   "nbconvert_exporter": "python",
   "pygments_lexer": "ipython3",
   "version": "3.8.15"
  }
 },
 "nbformat": 4,
 "nbformat_minor": 4
}
